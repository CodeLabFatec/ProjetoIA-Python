{
 "cells": [
  {
   "cell_type": "code",
   "execution_count": 1,
   "metadata": {},
   "outputs": [
    {
     "name": "stdout",
     "output_type": "stream",
     "text": [
      "loading Roboflow workspace...\n",
      "loading Roboflow project...\n",
      "[WARNING] we noticed you are downloading a `yolov8` datasets but you don't have `ultralytics` installed. Roboflow `.deploy` supports only models trained with `ultralytics==8.0.196`, to intall it `pip install ultralytics==8.0.196`.\n"
     ]
    },
    {
     "name": "stderr",
     "output_type": "stream",
     "text": [
      "Downloading Dataset Version Zip in People-Detection-8 to yolov8:: 100%|██████████| 2070347/2070347 [01:32<00:00, 22373.77it/s]"
     ]
    },
    {
     "name": "stdout",
     "output_type": "stream",
     "text": [
      "\n"
     ]
    },
    {
     "name": "stderr",
     "output_type": "stream",
     "text": [
      "\n",
      "Extracting Dataset Version Zip to People-Detection-8 in yolov8:: 100%|██████████| 34814/34814 [00:13<00:00, 2498.99it/s]\n"
     ]
    }
   ],
   "source": [
    "from roboflow import Roboflow\n",
    "\n",
    "rf = Roboflow(api_key=\"pmayRspsdvodlxjTxCUp\")\n",
    "project = rf.workspace(\"leo-ueno\").project(\"people-detection-o4rdr\")\n",
    "version = project.version(8)\n",
    "dataset = version.download(\"yolov8\")\n"
   ]
  },
  {
   "cell_type": "code",
   "execution_count": 5,
   "metadata": {},
   "outputs": [
    {
     "name": "stdout",
     "output_type": "stream",
     "text": [
      "Ultralytics YOLOv8.2.16  Python-3.12.3 torch-2.3.0+cpu CPU (11th Gen Intel Core(TM) i5-11400F 2.60GHz)\n",
      "\u001b[34m\u001b[1mengine\\trainer: \u001b[0mtask=detect, mode=train, model=yolov8n.pt, data=C:/Users/thale/Desktop/api/ProjetoIA-Python/ia/data/dataset/data.yaml, epochs=5, time=None, patience=100, batch=16, imgsz=640, save=True, save_period=-1, cache=False, device=None, workers=8, project=None, name=train4, exist_ok=False, pretrained=True, optimizer=auto, verbose=True, seed=0, deterministic=True, single_cls=False, rect=False, cos_lr=False, close_mosaic=10, resume=False, amp=True, fraction=1.0, profile=False, freeze=None, multi_scale=False, overlap_mask=True, mask_ratio=4, dropout=0.0, val=True, split=val, save_json=False, save_hybrid=False, conf=None, iou=0.7, max_det=300, half=False, dnn=False, plots=True, source=None, vid_stride=1, stream_buffer=False, visualize=False, augment=False, agnostic_nms=False, classes=None, retina_masks=False, embed=None, show=False, save_frames=False, save_txt=False, save_conf=False, save_crop=False, show_labels=True, show_conf=True, show_boxes=True, line_width=None, format=torchscript, keras=False, optimize=False, int8=False, dynamic=False, simplify=False, opset=None, workspace=4, nms=False, lr0=0.01, lrf=0.01, momentum=0.937, weight_decay=0.0005, warmup_epochs=3.0, warmup_momentum=0.8, warmup_bias_lr=0.1, box=7.5, cls=0.5, dfl=1.5, pose=12.0, kobj=1.0, label_smoothing=0.0, nbs=64, hsv_h=0.015, hsv_s=0.7, hsv_v=0.4, degrees=0.0, translate=0.1, scale=0.5, shear=0.0, perspective=0.0, flipud=0.0, fliplr=0.5, bgr=0.0, mosaic=1.0, mixup=0.0, copy_paste=0.0, auto_augment=randaugment, erasing=0.4, crop_fraction=1.0, cfg=None, tracker=botsort.yaml, save_dir=runs\\detect\\train4\n",
      "Downloading https://ultralytics.com/assets/Arial.ttf to 'C:\\Users\\thale\\AppData\\Roaming\\Ultralytics\\Arial.ttf'...\n"
     ]
    },
    {
     "name": "stderr",
     "output_type": "stream",
     "text": [
      "100%|██████████| 755k/755k [00:00<00:00, 19.4MB/s]"
     ]
    },
    {
     "name": "stdout",
     "output_type": "stream",
     "text": [
      "Overriding model.yaml nc=80 with nc=1\n",
      "\n",
      "                   from  n    params  module                                       arguments                     \n",
      "  0                  -1  1       464  ultralytics.nn.modules.conv.Conv             [3, 16, 3, 2]                 \n",
      "  1                  -1  1      4672  ultralytics.nn.modules.conv.Conv             [16, 32, 3, 2]                \n",
      "  2                  -1  1      7360  ultralytics.nn.modules.block.C2f             [32, 32, 1, True]             \n",
      "  3                  -1  1     18560  ultralytics.nn.modules.conv.Conv             [32, 64, 3, 2]                \n",
      "  4                  -1  2     49664  ultralytics.nn.modules.block.C2f             [64, 64, 2, True]             \n",
      "  5                  -1  1     73984  ultralytics.nn.modules.conv.Conv             [64, 128, 3, 2]               \n",
      "  6                  -1  2    197632  ultralytics.nn.modules.block.C2f             [128, 128, 2, True]           \n",
      "  7                  -1  1    295424  ultralytics.nn.modules.conv.Conv             [128, 256, 3, 2]              \n",
      "  8                  -1  1    460288  ultralytics.nn.modules.block.C2f             [256, 256, 1, True]           \n",
      "  9                  -1  1    164608  ultralytics.nn.modules.block.SPPF            [256, 256, 5]                 \n",
      " 10                  -1  1         0  torch.nn.modules.upsampling.Upsample         [None, 2, 'nearest']          \n",
      " 11             [-1, 6]  1         0  ultralytics.nn.modules.conv.Concat           [1]                           \n",
      " 12                  -1  1    148224  ultralytics.nn.modules.block.C2f             [384, 128, 1]                 \n",
      " 13                  -1  1         0  torch.nn.modules.upsampling.Upsample         [None, 2, 'nearest']          \n",
      " 14             [-1, 4]  1         0  ultralytics.nn.modules.conv.Concat           [1]                           \n",
      " 15                  -1  1     37248  ultralytics.nn.modules.block.C2f             [192, 64, 1]                  \n",
      " 16                  -1  1     36992  ultralytics.nn.modules.conv.Conv             [64, 64, 3, 2]                \n",
      " 17            [-1, 12]  1         0  ultralytics.nn.modules.conv.Concat           [1]                           \n",
      " 18                  -1  1    123648  ultralytics.nn.modules.block.C2f             [192, 128, 1]                 \n",
      " 19                  -1  1    147712  ultralytics.nn.modules.conv.Conv             [128, 128, 3, 2]              \n",
      " 20             [-1, 9]  1         0  ultralytics.nn.modules.conv.Concat           [1]                           \n",
      " 21                  -1  1    493056  ultralytics.nn.modules.block.C2f             [384, 256, 1]                 \n",
      " 22        [15, 18, 21]  1    751507  ultralytics.nn.modules.head.Detect           [1, [64, 128, 256]]           \n"
     ]
    },
    {
     "name": "stderr",
     "output_type": "stream",
     "text": [
      "\n"
     ]
    },
    {
     "name": "stdout",
     "output_type": "stream",
     "text": [
      "Model summary: 225 layers, 3011043 parameters, 3011027 gradients\n",
      "\n",
      "Transferred 319/355 items from pretrained weights\n",
      "Freezing layer 'model.22.dfl.conv.weight'\n"
     ]
    },
    {
     "name": "stderr",
     "output_type": "stream",
     "text": [
      "\u001b[34m\u001b[1mtrain: \u001b[0mScanning C:\\Users\\thale\\Desktop\\api\\ProjetoIA-Python\\ia\\data\\dataset\\train\\labels... 15210 images, 1917 backgrounds, 0 corrupt: 100%|██████████| 15210/15210 [00:18<00:00, 838.54it/s]"
     ]
    },
    {
     "name": "stdout",
     "output_type": "stream",
     "text": [
      "\u001b[34m\u001b[1mtrain: \u001b[0mWARNING  C:\\Users\\thale\\Desktop\\api\\ProjetoIA-Python\\ia\\data\\dataset\\train\\images\\000066_jpg.rf.7af12755c989607af4ff8faf8be1ed1b.jpg: 16 duplicate labels removed\n",
      "\u001b[34m\u001b[1mtrain: \u001b[0mWARNING  C:\\Users\\thale\\Desktop\\api\\ProjetoIA-Python\\ia\\data\\dataset\\train\\images\\2007_002387_jpg.rf.b185b9383eb87d476665f67d98e93996.jpg: 13 duplicate labels removed\n",
      "\u001b[34m\u001b[1mtrain: \u001b[0mWARNING  C:\\Users\\thale\\Desktop\\api\\ProjetoIA-Python\\ia\\data\\dataset\\train\\images\\2007_002845_jpg.rf.f86d7a1b7e9851bf8201be8dcaf3c8ec.jpg: 23 duplicate labels removed\n",
      "\u001b[34m\u001b[1mtrain: \u001b[0mWARNING  C:\\Users\\thale\\Desktop\\api\\ProjetoIA-Python\\ia\\data\\dataset\\train\\images\\2007_003226_jpg.rf.f1f5326d95fecd08c5a9dfdad9259e28.jpg: 1 duplicate labels removed\n",
      "\u001b[34m\u001b[1mtrain: \u001b[0mWARNING  C:\\Users\\thale\\Desktop\\api\\ProjetoIA-Python\\ia\\data\\dataset\\train\\images\\2008_003526_jpg.rf.4a836fd57d560fc005eab941399b6500.jpg: 1 duplicate labels removed\n",
      "\u001b[34m\u001b[1mtrain: \u001b[0mWARNING  C:\\Users\\thale\\Desktop\\api\\ProjetoIA-Python\\ia\\data\\dataset\\train\\images\\2008_003598_jpg.rf.df9555297acad95b8d1833b8cb78e7fb.jpg: 1 duplicate labels removed\n",
      "\u001b[34m\u001b[1mtrain: \u001b[0mWARNING  C:\\Users\\thale\\Desktop\\api\\ProjetoIA-Python\\ia\\data\\dataset\\train\\images\\2008_003608_jpg.rf.11cb8904ac10f9f5fbaba7b3da1a5364.jpg: 1 duplicate labels removed\n",
      "\u001b[34m\u001b[1mtrain: \u001b[0mWARNING  C:\\Users\\thale\\Desktop\\api\\ProjetoIA-Python\\ia\\data\\dataset\\train\\images\\2008_006361_jpg.rf.d7c25efb2ad609216a8fcff048099734.jpg: 1 duplicate labels removed\n",
      "\u001b[34m\u001b[1mtrain: \u001b[0mWARNING  C:\\Users\\thale\\Desktop\\api\\ProjetoIA-Python\\ia\\data\\dataset\\train\\images\\2008_006517_jpg.rf.c43b88938c92123b015b583f2daabb2a.jpg: 23 duplicate labels removed\n",
      "\u001b[34m\u001b[1mtrain: \u001b[0mWARNING  C:\\Users\\thale\\Desktop\\api\\ProjetoIA-Python\\ia\\data\\dataset\\train\\images\\2009_002406_jpg.rf.eb6bdefd90894fd5853f7d886c34785c.jpg: 1 duplicate labels removed\n",
      "\u001b[34m\u001b[1mtrain: \u001b[0mWARNING  C:\\Users\\thale\\Desktop\\api\\ProjetoIA-Python\\ia\\data\\dataset\\train\\images\\2009_002869_jpg.rf.2ba7834e2064f7d4355e7e88ee6db9d4.jpg: 1 duplicate labels removed\n",
      "\u001b[34m\u001b[1mtrain: \u001b[0mWARNING  C:\\Users\\thale\\Desktop\\api\\ProjetoIA-Python\\ia\\data\\dataset\\train\\images\\2010_002363_jpg.rf.8442c12f3e10e557fc61850f3224e776.jpg: 1 duplicate labels removed\n",
      "\u001b[34m\u001b[1mtrain: \u001b[0mWARNING  C:\\Users\\thale\\Desktop\\api\\ProjetoIA-Python\\ia\\data\\dataset\\train\\images\\2010_002498_jpg.rf.dcadcfb483196d8be7922fb603fcd478.jpg: 1 duplicate labels removed\n",
      "\u001b[34m\u001b[1mtrain: \u001b[0mWARNING  C:\\Users\\thale\\Desktop\\api\\ProjetoIA-Python\\ia\\data\\dataset\\train\\images\\2010_004094_jpg.rf.fb5ac465bfa26e4053cac9c01b7c37a8.jpg: 1 duplicate labels removed\n"
     ]
    },
    {
     "name": "stderr",
     "output_type": "stream",
     "text": [
      "\n"
     ]
    },
    {
     "name": "stdout",
     "output_type": "stream",
     "text": [
      "\u001b[34m\u001b[1mtrain: \u001b[0mNew cache created: C:\\Users\\thale\\Desktop\\api\\ProjetoIA-Python\\ia\\data\\dataset\\train\\labels.cache\n",
      "WARNING  Box and segment counts should be equal, but got len(segments) = 428, len(boxes) = 99059. To resolve this only boxes will be used and all segments will be removed. To avoid this please supply either a detect or segment dataset, not a detect-segment mixed dataset.\n"
     ]
    },
    {
     "name": "stderr",
     "output_type": "stream",
     "text": [
      "\u001b[34m\u001b[1mval: \u001b[0mScanning C:\\Users\\thale\\Desktop\\api\\ProjetoIA-Python\\ia\\data\\dataset\\valid\\labels... 1431 images, 61 backgrounds, 0 corrupt: 100%|██████████| 1431/1431 [00:02<00:00, 687.79it/s]"
     ]
    },
    {
     "name": "stdout",
     "output_type": "stream",
     "text": [
      "\u001b[34m\u001b[1mval: \u001b[0mWARNING  C:\\Users\\thale\\Desktop\\api\\ProjetoIA-Python\\ia\\data\\dataset\\valid\\images\\GX010023_frame_00025_right_jpg.rf.3255febc597d78d5d6e4bde455ba7b2a.jpg: 23 duplicate labels removed\n"
     ]
    },
    {
     "name": "stderr",
     "output_type": "stream",
     "text": [
      "\n"
     ]
    },
    {
     "name": "stdout",
     "output_type": "stream",
     "text": [
      "\u001b[34m\u001b[1mval: \u001b[0mNew cache created: C:\\Users\\thale\\Desktop\\api\\ProjetoIA-Python\\ia\\data\\dataset\\valid\\labels.cache\n",
      "WARNING  Box and segment counts should be equal, but got len(segments) = 61, len(boxes) = 10660. To resolve this only boxes will be used and all segments will be removed. To avoid this please supply either a detect or segment dataset, not a detect-segment mixed dataset.\n",
      "Plotting labels to runs\\detect\\train4\\labels.jpg... \n",
      "\u001b[34m\u001b[1moptimizer:\u001b[0m 'optimizer=auto' found, ignoring 'lr0=0.01' and 'momentum=0.937' and determining best 'optimizer', 'lr0' and 'momentum' automatically... \n",
      "\u001b[34m\u001b[1moptimizer:\u001b[0m AdamW(lr=0.002, momentum=0.9) with parameter groups 57 weight(decay=0.0), 64 weight(decay=0.0005), 63 bias(decay=0.0)\n",
      "Image sizes 640 train, 640 val\n",
      "Using 0 dataloader workers\n",
      "Logging results to \u001b[1mruns\\detect\\train4\u001b[0m\n",
      "Starting training for 5 epochs...\n",
      "\n",
      "      Epoch    GPU_mem   box_loss   cls_loss   dfl_loss  Instances       Size\n"
     ]
    },
    {
     "name": "stderr",
     "output_type": "stream",
     "text": [
      "        1/5         0G        1.5      1.521       1.31        107        640: 100%|██████████| 951/951 [1:16:04<00:00,  4.80s/it]\n",
      "                 Class     Images  Instances      Box(P          R      mAP50  mAP50-95): 100%|██████████| 45/45 [02:11<00:00,  2.92s/it]"
     ]
    },
    {
     "name": "stdout",
     "output_type": "stream",
     "text": [
      "                   all       1431      10660      0.614      0.402       0.43      0.215\n"
     ]
    },
    {
     "name": "stderr",
     "output_type": "stream",
     "text": [
      "\n"
     ]
    },
    {
     "name": "stdout",
     "output_type": "stream",
     "text": [
      "\n",
      "      Epoch    GPU_mem   box_loss   cls_loss   dfl_loss  Instances       Size\n"
     ]
    },
    {
     "name": "stderr",
     "output_type": "stream",
     "text": [
      "        2/5         0G      1.502      1.368      1.323         84        640: 100%|██████████| 951/951 [1:11:31<00:00,  4.51s/it]\n",
      "                 Class     Images  Instances      Box(P          R      mAP50  mAP50-95): 100%|██████████| 45/45 [02:10<00:00,  2.89s/it]"
     ]
    },
    {
     "name": "stdout",
     "output_type": "stream",
     "text": [
      "                   all       1431      10660      0.673      0.452      0.482       0.25\n"
     ]
    },
    {
     "name": "stderr",
     "output_type": "stream",
     "text": [
      "\n"
     ]
    },
    {
     "name": "stdout",
     "output_type": "stream",
     "text": [
      "\n",
      "      Epoch    GPU_mem   box_loss   cls_loss   dfl_loss  Instances       Size\n"
     ]
    },
    {
     "name": "stderr",
     "output_type": "stream",
     "text": [
      "        3/5         0G      1.448      1.294      1.297        154        640: 100%|██████████| 951/951 [1:18:31<00:00,  4.95s/it]  \n",
      "                 Class     Images  Instances      Box(P          R      mAP50  mAP50-95): 100%|██████████| 45/45 [02:10<00:00,  2.89s/it]"
     ]
    },
    {
     "name": "stdout",
     "output_type": "stream",
     "text": [
      "                   all       1431      10660       0.66      0.495      0.541      0.278\n"
     ]
    },
    {
     "name": "stderr",
     "output_type": "stream",
     "text": [
      "\n"
     ]
    },
    {
     "name": "stdout",
     "output_type": "stream",
     "text": [
      "\n",
      "      Epoch    GPU_mem   box_loss   cls_loss   dfl_loss  Instances       Size\n"
     ]
    },
    {
     "name": "stderr",
     "output_type": "stream",
     "text": [
      "        4/5         0G      1.372      1.207      1.257        150        640: 100%|██████████| 951/951 [1:09:25<00:00,  4.38s/it]\n",
      "                 Class     Images  Instances      Box(P          R      mAP50  mAP50-95): 100%|██████████| 45/45 [02:10<00:00,  2.89s/it]"
     ]
    },
    {
     "name": "stdout",
     "output_type": "stream",
     "text": [
      "                   all       1431      10660      0.725      0.509      0.585      0.312\n"
     ]
    },
    {
     "name": "stderr",
     "output_type": "stream",
     "text": [
      "\n"
     ]
    },
    {
     "name": "stdout",
     "output_type": "stream",
     "text": [
      "\n",
      "      Epoch    GPU_mem   box_loss   cls_loss   dfl_loss  Instances       Size\n"
     ]
    },
    {
     "name": "stderr",
     "output_type": "stream",
     "text": [
      "        5/5         0G      1.292      1.112      1.221         84        640: 100%|██████████| 951/951 [1:10:09<00:00,  4.43s/it]\n",
      "                 Class     Images  Instances      Box(P          R      mAP50  mAP50-95): 100%|██████████| 45/45 [02:10<00:00,  2.91s/it]"
     ]
    },
    {
     "name": "stdout",
     "output_type": "stream",
     "text": [
      "                   all       1431      10660      0.717      0.539      0.609      0.338\n"
     ]
    },
    {
     "name": "stderr",
     "output_type": "stream",
     "text": [
      "\n"
     ]
    },
    {
     "name": "stdout",
     "output_type": "stream",
     "text": [
      "\n",
      "5 epochs completed in 6.277 hours.\n",
      "Optimizer stripped from runs\\detect\\train4\\weights\\last.pt, 6.2MB\n",
      "Optimizer stripped from runs\\detect\\train4\\weights\\best.pt, 6.2MB\n",
      "\n",
      "Validating runs\\detect\\train4\\weights\\best.pt...\n",
      "Ultralytics YOLOv8.2.16  Python-3.12.3 torch-2.3.0+cpu CPU (11th Gen Intel Core(TM) i5-11400F 2.60GHz)\n",
      "Model summary (fused): 168 layers, 3005843 parameters, 0 gradients\n"
     ]
    },
    {
     "name": "stderr",
     "output_type": "stream",
     "text": [
      "                 Class     Images  Instances      Box(P          R      mAP50  mAP50-95): 100%|██████████| 45/45 [01:31<00:00,  2.03s/it]\n"
     ]
    },
    {
     "name": "stdout",
     "output_type": "stream",
     "text": [
      "                   all       1431      10660      0.717      0.539      0.609      0.338\n",
      "Speed: 0.9ms preprocess, 51.8ms inference, 0.0ms loss, 0.6ms postprocess per image\n",
      "Results saved to \u001b[1mruns\\detect\\train4\u001b[0m\n"
     ]
    }
   ],
   "source": [
    "from ultralytics import YOLO\n",
    "\n",
    "model = YOLO()\n",
    "\n",
    "results = model.train(data='C:/Users/thale/Desktop/api/ProjetoIA-Python/ia/data/dataset/data.yaml', epochs=5, imgsz=640, deterministic=True)"
   ]
  },
  {
   "cell_type": "code",
   "execution_count": 8,
   "metadata": {},
   "outputs": [
    {
     "data": {
      "text/plain": [
       "ultralytics.utils.metrics.DetMetrics object with attributes:\n",
       "\n",
       "ap_class_index: array([0])\n",
       "box: ultralytics.utils.metrics.Metric object\n",
       "confusion_matrix: <ultralytics.utils.metrics.ConfusionMatrix object at 0x000001993C7867E0>\n",
       "curves: ['Precision-Recall(B)', 'F1-Confidence(B)', 'Precision-Confidence(B)', 'Recall-Confidence(B)']\n",
       "curves_results: [[array([          0,    0.001001,    0.002002,    0.003003,    0.004004,    0.005005,    0.006006,    0.007007,    0.008008,    0.009009,     0.01001,    0.011011,    0.012012,    0.013013,    0.014014,    0.015015,    0.016016,    0.017017,    0.018018,    0.019019,     0.02002,    0.021021,    0.022022,    0.023023,\n",
       "          0.024024,    0.025025,    0.026026,    0.027027,    0.028028,    0.029029,     0.03003,    0.031031,    0.032032,    0.033033,    0.034034,    0.035035,    0.036036,    0.037037,    0.038038,    0.039039,     0.04004,    0.041041,    0.042042,    0.043043,    0.044044,    0.045045,    0.046046,    0.047047,\n",
       "          0.048048,    0.049049,     0.05005,    0.051051,    0.052052,    0.053053,    0.054054,    0.055055,    0.056056,    0.057057,    0.058058,    0.059059,     0.06006,    0.061061,    0.062062,    0.063063,    0.064064,    0.065065,    0.066066,    0.067067,    0.068068,    0.069069,     0.07007,    0.071071,\n",
       "          0.072072,    0.073073,    0.074074,    0.075075,    0.076076,    0.077077,    0.078078,    0.079079,     0.08008,    0.081081,    0.082082,    0.083083,    0.084084,    0.085085,    0.086086,    0.087087,    0.088088,    0.089089,     0.09009,    0.091091,    0.092092,    0.093093,    0.094094,    0.095095,\n",
       "          0.096096,    0.097097,    0.098098,    0.099099,      0.1001,      0.1011,      0.1021,      0.1031,      0.1041,     0.10511,     0.10611,     0.10711,     0.10811,     0.10911,     0.11011,     0.11111,     0.11211,     0.11311,     0.11411,     0.11512,     0.11612,     0.11712,     0.11812,     0.11912,\n",
       "           0.12012,     0.12112,     0.12212,     0.12312,     0.12412,     0.12513,     0.12613,     0.12713,     0.12813,     0.12913,     0.13013,     0.13113,     0.13213,     0.13313,     0.13413,     0.13514,     0.13614,     0.13714,     0.13814,     0.13914,     0.14014,     0.14114,     0.14214,     0.14314,\n",
       "           0.14414,     0.14515,     0.14615,     0.14715,     0.14815,     0.14915,     0.15015,     0.15115,     0.15215,     0.15315,     0.15415,     0.15516,     0.15616,     0.15716,     0.15816,     0.15916,     0.16016,     0.16116,     0.16216,     0.16316,     0.16416,     0.16517,     0.16617,     0.16717,\n",
       "           0.16817,     0.16917,     0.17017,     0.17117,     0.17217,     0.17317,     0.17417,     0.17518,     0.17618,     0.17718,     0.17818,     0.17918,     0.18018,     0.18118,     0.18218,     0.18318,     0.18418,     0.18519,     0.18619,     0.18719,     0.18819,     0.18919,     0.19019,     0.19119,\n",
       "           0.19219,     0.19319,     0.19419,      0.1952,      0.1962,      0.1972,      0.1982,      0.1992,      0.2002,      0.2012,      0.2022,      0.2032,      0.2042,     0.20521,     0.20621,     0.20721,     0.20821,     0.20921,     0.21021,     0.21121,     0.21221,     0.21321,     0.21421,     0.21522,\n",
       "           0.21622,     0.21722,     0.21822,     0.21922,     0.22022,     0.22122,     0.22222,     0.22322,     0.22422,     0.22523,     0.22623,     0.22723,     0.22823,     0.22923,     0.23023,     0.23123,     0.23223,     0.23323,     0.23423,     0.23524,     0.23624,     0.23724,     0.23824,     0.23924,\n",
       "           0.24024,     0.24124,     0.24224,     0.24324,     0.24424,     0.24525,     0.24625,     0.24725,     0.24825,     0.24925,     0.25025,     0.25125,     0.25225,     0.25325,     0.25425,     0.25526,     0.25626,     0.25726,     0.25826,     0.25926,     0.26026,     0.26126,     0.26226,     0.26326,\n",
       "           0.26426,     0.26527,     0.26627,     0.26727,     0.26827,     0.26927,     0.27027,     0.27127,     0.27227,     0.27327,     0.27427,     0.27528,     0.27628,     0.27728,     0.27828,     0.27928,     0.28028,     0.28128,     0.28228,     0.28328,     0.28428,     0.28529,     0.28629,     0.28729,\n",
       "           0.28829,     0.28929,     0.29029,     0.29129,     0.29229,     0.29329,     0.29429,      0.2953,      0.2963,      0.2973,      0.2983,      0.2993,      0.3003,      0.3013,      0.3023,      0.3033,      0.3043,     0.30531,     0.30631,     0.30731,     0.30831,     0.30931,     0.31031,     0.31131,\n",
       "           0.31231,     0.31331,     0.31431,     0.31532,     0.31632,     0.31732,     0.31832,     0.31932,     0.32032,     0.32132,     0.32232,     0.32332,     0.32432,     0.32533,     0.32633,     0.32733,     0.32833,     0.32933,     0.33033,     0.33133,     0.33233,     0.33333,     0.33433,     0.33534,\n",
       "           0.33634,     0.33734,     0.33834,     0.33934,     0.34034,     0.34134,     0.34234,     0.34334,     0.34434,     0.34535,     0.34635,     0.34735,     0.34835,     0.34935,     0.35035,     0.35135,     0.35235,     0.35335,     0.35435,     0.35536,     0.35636,     0.35736,     0.35836,     0.35936,\n",
       "           0.36036,     0.36136,     0.36236,     0.36336,     0.36436,     0.36537,     0.36637,     0.36737,     0.36837,     0.36937,     0.37037,     0.37137,     0.37237,     0.37337,     0.37437,     0.37538,     0.37638,     0.37738,     0.37838,     0.37938,     0.38038,     0.38138,     0.38238,     0.38338,\n",
       "           0.38438,     0.38539,     0.38639,     0.38739,     0.38839,     0.38939,     0.39039,     0.39139,     0.39239,     0.39339,     0.39439,      0.3954,      0.3964,      0.3974,      0.3984,      0.3994,      0.4004,      0.4014,      0.4024,      0.4034,      0.4044,     0.40541,     0.40641,     0.40741,\n",
       "           0.40841,     0.40941,     0.41041,     0.41141,     0.41241,     0.41341,     0.41441,     0.41542,     0.41642,     0.41742,     0.41842,     0.41942,     0.42042,     0.42142,     0.42242,     0.42342,     0.42442,     0.42543,     0.42643,     0.42743,     0.42843,     0.42943,     0.43043,     0.43143,\n",
       "           0.43243,     0.43343,     0.43443,     0.43544,     0.43644,     0.43744,     0.43844,     0.43944,     0.44044,     0.44144,     0.44244,     0.44344,     0.44444,     0.44545,     0.44645,     0.44745,     0.44845,     0.44945,     0.45045,     0.45145,     0.45245,     0.45345,     0.45445,     0.45546,\n",
       "           0.45646,     0.45746,     0.45846,     0.45946,     0.46046,     0.46146,     0.46246,     0.46346,     0.46446,     0.46547,     0.46647,     0.46747,     0.46847,     0.46947,     0.47047,     0.47147,     0.47247,     0.47347,     0.47447,     0.47548,     0.47648,     0.47748,     0.47848,     0.47948,\n",
       "           0.48048,     0.48148,     0.48248,     0.48348,     0.48448,     0.48549,     0.48649,     0.48749,     0.48849,     0.48949,     0.49049,     0.49149,     0.49249,     0.49349,     0.49449,      0.4955,      0.4965,      0.4975,      0.4985,      0.4995,      0.5005,      0.5015,      0.5025,      0.5035,\n",
       "            0.5045,     0.50551,     0.50651,     0.50751,     0.50851,     0.50951,     0.51051,     0.51151,     0.51251,     0.51351,     0.51451,     0.51552,     0.51652,     0.51752,     0.51852,     0.51952,     0.52052,     0.52152,     0.52252,     0.52352,     0.52452,     0.52553,     0.52653,     0.52753,\n",
       "           0.52853,     0.52953,     0.53053,     0.53153,     0.53253,     0.53353,     0.53453,     0.53554,     0.53654,     0.53754,     0.53854,     0.53954,     0.54054,     0.54154,     0.54254,     0.54354,     0.54454,     0.54555,     0.54655,     0.54755,     0.54855,     0.54955,     0.55055,     0.55155,\n",
       "           0.55255,     0.55355,     0.55455,     0.55556,     0.55656,     0.55756,     0.55856,     0.55956,     0.56056,     0.56156,     0.56256,     0.56356,     0.56456,     0.56557,     0.56657,     0.56757,     0.56857,     0.56957,     0.57057,     0.57157,     0.57257,     0.57357,     0.57457,     0.57558,\n",
       "           0.57658,     0.57758,     0.57858,     0.57958,     0.58058,     0.58158,     0.58258,     0.58358,     0.58458,     0.58559,     0.58659,     0.58759,     0.58859,     0.58959,     0.59059,     0.59159,     0.59259,     0.59359,     0.59459,      0.5956,      0.5966,      0.5976,      0.5986,      0.5996,\n",
       "            0.6006,      0.6016,      0.6026,      0.6036,      0.6046,     0.60561,     0.60661,     0.60761,     0.60861,     0.60961,     0.61061,     0.61161,     0.61261,     0.61361,     0.61461,     0.61562,     0.61662,     0.61762,     0.61862,     0.61962,     0.62062,     0.62162,     0.62262,     0.62362,\n",
       "           0.62462,     0.62563,     0.62663,     0.62763,     0.62863,     0.62963,     0.63063,     0.63163,     0.63263,     0.63363,     0.63463,     0.63564,     0.63664,     0.63764,     0.63864,     0.63964,     0.64064,     0.64164,     0.64264,     0.64364,     0.64464,     0.64565,     0.64665,     0.64765,\n",
       "           0.64865,     0.64965,     0.65065,     0.65165,     0.65265,     0.65365,     0.65465,     0.65566,     0.65666,     0.65766,     0.65866,     0.65966,     0.66066,     0.66166,     0.66266,     0.66366,     0.66466,     0.66567,     0.66667,     0.66767,     0.66867,     0.66967,     0.67067,     0.67167,\n",
       "           0.67267,     0.67367,     0.67467,     0.67568,     0.67668,     0.67768,     0.67868,     0.67968,     0.68068,     0.68168,     0.68268,     0.68368,     0.68468,     0.68569,     0.68669,     0.68769,     0.68869,     0.68969,     0.69069,     0.69169,     0.69269,     0.69369,     0.69469,      0.6957,\n",
       "            0.6967,      0.6977,      0.6987,      0.6997,      0.7007,      0.7017,      0.7027,      0.7037,      0.7047,     0.70571,     0.70671,     0.70771,     0.70871,     0.70971,     0.71071,     0.71171,     0.71271,     0.71371,     0.71471,     0.71572,     0.71672,     0.71772,     0.71872,     0.71972,\n",
       "           0.72072,     0.72172,     0.72272,     0.72372,     0.72472,     0.72573,     0.72673,     0.72773,     0.72873,     0.72973,     0.73073,     0.73173,     0.73273,     0.73373,     0.73473,     0.73574,     0.73674,     0.73774,     0.73874,     0.73974,     0.74074,     0.74174,     0.74274,     0.74374,\n",
       "           0.74474,     0.74575,     0.74675,     0.74775,     0.74875,     0.74975,     0.75075,     0.75175,     0.75275,     0.75375,     0.75475,     0.75576,     0.75676,     0.75776,     0.75876,     0.75976,     0.76076,     0.76176,     0.76276,     0.76376,     0.76476,     0.76577,     0.76677,     0.76777,\n",
       "           0.76877,     0.76977,     0.77077,     0.77177,     0.77277,     0.77377,     0.77477,     0.77578,     0.77678,     0.77778,     0.77878,     0.77978,     0.78078,     0.78178,     0.78278,     0.78378,     0.78478,     0.78579,     0.78679,     0.78779,     0.78879,     0.78979,     0.79079,     0.79179,\n",
       "           0.79279,     0.79379,     0.79479,      0.7958,      0.7968,      0.7978,      0.7988,      0.7998,      0.8008,      0.8018,      0.8028,      0.8038,      0.8048,     0.80581,     0.80681,     0.80781,     0.80881,     0.80981,     0.81081,     0.81181,     0.81281,     0.81381,     0.81481,     0.81582,\n",
       "           0.81682,     0.81782,     0.81882,     0.81982,     0.82082,     0.82182,     0.82282,     0.82382,     0.82482,     0.82583,     0.82683,     0.82783,     0.82883,     0.82983,     0.83083,     0.83183,     0.83283,     0.83383,     0.83483,     0.83584,     0.83684,     0.83784,     0.83884,     0.83984,\n",
       "           0.84084,     0.84184,     0.84284,     0.84384,     0.84484,     0.84585,     0.84685,     0.84785,     0.84885,     0.84985,     0.85085,     0.85185,     0.85285,     0.85385,     0.85485,     0.85586,     0.85686,     0.85786,     0.85886,     0.85986,     0.86086,     0.86186,     0.86286,     0.86386,\n",
       "           0.86486,     0.86587,     0.86687,     0.86787,     0.86887,     0.86987,     0.87087,     0.87187,     0.87287,     0.87387,     0.87487,     0.87588,     0.87688,     0.87788,     0.87888,     0.87988,     0.88088,     0.88188,     0.88288,     0.88388,     0.88488,     0.88589,     0.88689,     0.88789,\n",
       "           0.88889,     0.88989,     0.89089,     0.89189,     0.89289,     0.89389,     0.89489,      0.8959,      0.8969,      0.8979,      0.8989,      0.8999,      0.9009,      0.9019,      0.9029,      0.9039,      0.9049,     0.90591,     0.90691,     0.90791,     0.90891,     0.90991,     0.91091,     0.91191,\n",
       "           0.91291,     0.91391,     0.91491,     0.91592,     0.91692,     0.91792,     0.91892,     0.91992,     0.92092,     0.92192,     0.92292,     0.92392,     0.92492,     0.92593,     0.92693,     0.92793,     0.92893,     0.92993,     0.93093,     0.93193,     0.93293,     0.93393,     0.93493,     0.93594,\n",
       "           0.93694,     0.93794,     0.93894,     0.93994,     0.94094,     0.94194,     0.94294,     0.94394,     0.94494,     0.94595,     0.94695,     0.94795,     0.94895,     0.94995,     0.95095,     0.95195,     0.95295,     0.95395,     0.95495,     0.95596,     0.95696,     0.95796,     0.95896,     0.95996,\n",
       "           0.96096,     0.96196,     0.96296,     0.96396,     0.96496,     0.96597,     0.96697,     0.96797,     0.96897,     0.96997,     0.97097,     0.97197,     0.97297,     0.97397,     0.97497,     0.97598,     0.97698,     0.97798,     0.97898,     0.97998,     0.98098,     0.98198,     0.98298,     0.98398,\n",
       "           0.98498,     0.98599,     0.98699,     0.98799,     0.98899,     0.98999,     0.99099,     0.99199,     0.99299,     0.99399,     0.99499,       0.996,       0.997,       0.998,       0.999,           1]), array([[          1,           1,           1,           1,           1,           1,           1,           1,           1,           1,           1,           1,           1,           1,           1,           1,           1,           1,           1,           1,           1,           1,           1,\n",
       "                  1,           1,           1,           1,           1,           1,     0.99718,     0.99718,     0.99718,     0.99718,     0.99718,     0.99286,     0.99286,     0.99286,     0.99286,     0.99286,     0.99286,     0.99192,     0.99192,     0.99192,     0.99192,     0.99192,     0.99192,\n",
       "            0.99192,     0.99077,     0.99077,     0.99077,     0.99077,     0.98927,     0.98765,     0.98618,     0.98529,     0.98529,     0.98529,     0.98529,     0.98529,     0.98529,     0.98529,     0.98529,     0.98529,     0.98474,     0.98474,     0.98474,     0.98474,     0.98352,     0.98241,\n",
       "            0.98207,     0.98207,     0.98207,     0.98191,     0.98191,     0.98191,     0.98191,     0.98191,     0.98002,     0.98002,     0.97834,     0.97834,     0.97792,     0.97792,     0.97792,     0.97614,     0.97571,     0.97571,     0.97571,     0.97571,     0.97571,     0.97571,     0.97413,\n",
       "            0.97345,       0.973,       0.973,       0.973,       0.973,       0.973,       0.973,       0.973,       0.973,       0.973,       0.973,       0.973,       0.973,       0.973,       0.973,       0.973,       0.973,     0.97265,     0.97265,     0.97265,     0.97265,     0.97265,     0.97204,\n",
       "            0.97089,     0.96956,     0.96901,     0.96901,     0.96901,     0.96901,     0.96808,     0.96808,     0.96774,     0.96732,     0.96693,     0.96693,     0.96667,     0.96579,     0.96579,     0.96579,     0.96579,     0.96579,     0.96579,     0.96579,     0.96526,     0.96478,     0.96477,\n",
       "            0.96477,     0.96368,     0.96265,     0.96171,     0.96142,     0.96142,     0.96142,     0.96089,     0.95971,     0.95971,     0.95965,     0.95965,     0.95965,     0.95965,     0.95965,     0.95965,     0.95935,     0.95889,     0.95855,     0.95731,     0.95667,     0.95667,     0.95667,\n",
       "            0.95667,     0.95657,     0.95657,     0.95536,     0.95514,     0.95484,     0.95408,     0.95335,     0.95335,     0.95335,      0.9532,     0.95179,     0.95162,     0.95038,     0.94965,     0.94965,     0.94925,     0.94876,     0.94864,     0.94864,     0.94799,     0.94719,     0.94719,\n",
       "            0.94696,     0.94511,     0.94434,     0.94418,     0.94369,     0.94343,     0.94248,     0.94248,     0.94207,     0.94201,     0.94179,     0.94163,     0.94149,     0.94146,     0.94146,     0.94146,     0.94146,     0.94146,     0.94113,     0.93853,     0.93846,     0.93846,     0.93817,\n",
       "            0.93742,     0.93713,     0.93641,     0.93641,     0.93641,     0.93621,     0.93621,     0.93533,     0.93507,     0.93507,     0.93507,     0.93507,     0.93498,      0.9347,      0.9347,      0.9347,     0.93443,     0.93365,     0.93284,     0.93275,     0.93275,     0.93275,     0.93275,\n",
       "            0.93275,     0.93275,     0.93248,     0.93248,     0.93248,     0.93248,     0.93248,     0.93248,     0.93248,     0.93231,     0.93231,     0.93203,     0.93137,     0.93137,     0.93137,     0.93137,     0.93137,     0.93137,     0.93137,     0.93137,     0.93133,     0.93127,     0.93018,\n",
       "            0.92999,     0.92972,     0.92913,     0.92896,     0.92734,     0.92711,     0.92694,     0.92609,     0.92609,     0.92572,     0.92572,     0.92572,     0.92572,     0.92572,     0.92572,     0.92509,     0.92469,     0.92441,     0.92423,     0.92423,     0.92303,     0.92247,     0.92242,\n",
       "             0.9224,     0.92238,     0.92086,     0.92035,     0.91887,     0.91825,     0.91733,     0.91732,     0.91712,     0.91684,     0.91624,     0.91587,     0.91572,     0.91496,     0.91406,     0.91361,     0.91325,     0.91297,     0.91297,     0.91297,     0.91297,     0.91249,     0.91151,\n",
       "            0.91131,     0.91131,     0.91121,      0.9108,      0.9108,     0.91047,     0.91013,     0.90975,     0.90902,     0.90882,     0.90882,     0.90882,     0.90859,     0.90783,     0.90778,     0.90774,     0.90774,     0.90736,     0.90712,     0.90604,     0.90604,     0.90538,     0.90449,\n",
       "            0.90421,     0.90385,     0.90276,     0.90257,     0.90257,     0.90209,     0.90183,     0.90103,     0.90008,     0.89967,     0.89924,     0.89818,     0.89691,     0.89615,      0.8956,     0.89453,     0.89453,     0.89453,     0.89453,     0.89416,     0.89373,     0.89341,     0.89283,\n",
       "            0.89247,     0.89189,     0.89122,     0.89043,     0.89005,     0.88997,     0.88989,     0.88884,      0.8881,      0.8874,     0.88702,     0.88681,     0.88615,     0.88593,     0.88565,     0.88546,     0.88446,     0.88409,     0.88398,     0.88338,     0.88307,      0.8829,      0.8828,\n",
       "            0.88272,     0.88237,     0.88015,     0.87865,     0.87865,     0.87825,     0.87775,     0.87744,     0.87527,     0.87448,     0.87427,     0.87384,      0.8732,     0.87283,     0.87236,     0.87236,     0.87191,     0.87055,      0.8688,     0.86819,     0.86816,     0.86787,     0.86672,\n",
       "            0.86615,       0.865,     0.86409,     0.86386,     0.86376,     0.86327,     0.86243,     0.86131,     0.85979,     0.85979,     0.85892,     0.85857,     0.85854,     0.85797,      0.8572,     0.85649,     0.85588,     0.85501,     0.85457,     0.85435,     0.85347,     0.85252,     0.85228,\n",
       "            0.85092,     0.85046,     0.85038,     0.84981,     0.84891,     0.84842,     0.84799,      0.8475,      0.8463,     0.84617,     0.84572,     0.84547,     0.84504,     0.84342,     0.84317,     0.84216,      0.8414,     0.84067,     0.84063,     0.83988,     0.83913,     0.83791,      0.8369,\n",
       "             0.8362,     0.83605,     0.83526,     0.83428,     0.83324,     0.83242,     0.83032,     0.82992,     0.82929,     0.82919,      0.8287,     0.82817,     0.82692,     0.82597,      0.8257,     0.82447,     0.82368,     0.82272,     0.82104,     0.82085,     0.82017,     0.81907,     0.81783,\n",
       "            0.81714,     0.81595,     0.81542,     0.81521,     0.81247,     0.81198,     0.81102,     0.80886,     0.80783,     0.80689,     0.80604,     0.80512,     0.80466,     0.80427,     0.80356,     0.80298,     0.80155,     0.80069,     0.79931,     0.79863,     0.79757,     0.79548,     0.79521,\n",
       "            0.79451,     0.79254,     0.78987,     0.78773,     0.78619,     0.78611,     0.78611,     0.78524,     0.78493,     0.78381,      0.7837,     0.78304,     0.78229,     0.78175,     0.78034,     0.77941,     0.77843,     0.77723,     0.77639,     0.77495,     0.77385,     0.77307,     0.77202,\n",
       "            0.77157,      0.7697,     0.76828,      0.7664,      0.7635,     0.76127,     0.75808,     0.75737,     0.75537,     0.75398,     0.75229,     0.75184,     0.75048,     0.74872,     0.74744,     0.74491,       0.743,     0.74215,      0.7405,     0.73938,     0.73894,     0.73757,     0.73577,\n",
       "            0.73344,     0.73179,     0.73051,     0.72823,     0.72749,     0.72664,     0.72495,     0.72396,     0.72222,     0.71852,     0.71658,     0.71528,     0.71298,     0.71144,     0.70904,     0.70758,     0.70415,     0.70179,     0.69988,      0.6986,     0.69518,     0.69431,     0.69242,\n",
       "             0.6903,       0.689,     0.68632,     0.68466,     0.68188,     0.68005,     0.67856,     0.67715,     0.67449,      0.6727,     0.67126,     0.66938,     0.66815,     0.66531,     0.66396,     0.66265,     0.66038,     0.65835,     0.65578,     0.65474,      0.6529,     0.65143,      0.6498,\n",
       "            0.64784,     0.64664,     0.64505,     0.64287,     0.64204,     0.64065,     0.63905,     0.63689,     0.63444,      0.6325,     0.63003,     0.62741,     0.62615,     0.62361,     0.62213,     0.62036,     0.61867,     0.61778,     0.61546,     0.61327,     0.61058,      0.6089,     0.60827,\n",
       "            0.60462,      0.6016,     0.59959,     0.59769,      0.5957,     0.59396,     0.59268,     0.59132,     0.58866,     0.58656,     0.58577,     0.58151,     0.58006,     0.57546,      0.5739,     0.57086,     0.56919,     0.56524,     0.56386,     0.56182,     0.55956,     0.55633,     0.55322,\n",
       "             0.5523,     0.55095,     0.54739,     0.54591,     0.54356,     0.54155,      0.5396,     0.53598,     0.53253,     0.53016,     0.52836,     0.52729,     0.52495,     0.52399,     0.52263,     0.52168,     0.52032,     0.51886,     0.51464,     0.51296,     0.51071,     0.50907,     0.50706,\n",
       "            0.50552,     0.50142,     0.49975,     0.49859,     0.49734,     0.49652,     0.49409,      0.4929,     0.49035,     0.48826,     0.48526,      0.4831,      0.4817,     0.47978,     0.47769,     0.47543,     0.47162,     0.46986,     0.46819,     0.46571,     0.46344,     0.46099,     0.45917,\n",
       "            0.45705,      0.4539,     0.45186,     0.45045,     0.44765,     0.44494,     0.44361,     0.44224,     0.44104,     0.43868,     0.43695,     0.43495,     0.43343,     0.43158,     0.42942,     0.42645,     0.42428,     0.42296,     0.42188,     0.41789,     0.41682,     0.41517,     0.41254,\n",
       "            0.41004,     0.40902,     0.40709,     0.40589,     0.40259,     0.39938,     0.39775,     0.39716,     0.39614,     0.39516,     0.39094,     0.38947,     0.38805,     0.38602,      0.3843,     0.38219,     0.38077,     0.37738,       0.376,     0.37354,     0.37108,     0.36905,      0.3652,\n",
       "            0.36328,     0.36159,     0.35938,     0.35736,     0.35258,     0.34865,     0.34413,      0.3423,     0.33897,      0.3364,     0.33341,     0.33043,     0.32908,       0.326,     0.32176,     0.31714,     0.31388,     0.31128,     0.30651,     0.30327,     0.30153,     0.29791,     0.29425,\n",
       "            0.28928,     0.28677,      0.2833,     0.27966,     0.27641,     0.27381,     0.27106,     0.26911,     0.26565,      0.2624,     0.25978,     0.25557,     0.25339,     0.25013,     0.24655,     0.24349,     0.24001,     0.23784,     0.23471,     0.23144,     0.22824,     0.22641,     0.22356,\n",
       "            0.21941,     0.21691,     0.21309,     0.20963,     0.20653,      0.2036,     0.19615,     0.19253,     0.18785,     0.18284,     0.17938,     0.17698,     0.17394,     0.16793,     0.16507,     0.16256,     0.15982,     0.15195,     0.14522,     0.14044,     0.13636,     0.12969,     0.12477,\n",
       "             0.1186,     0.11643,     0.11118,     0.10624,     0.10186,    0.098533,    0.093949,     0.08766,    0.084143,     0.08038,    0.075143,    0.072811,    0.069881,     0.06954,      0.0692,    0.068859,    0.068518,    0.068177,    0.067836,    0.067495,    0.067154,    0.066813,    0.066472,\n",
       "           0.066132,    0.065791,     0.06545,    0.065109,    0.064768,    0.064427,    0.064086,    0.063745,    0.063405,    0.063064,    0.062723,    0.062382,    0.062041,      0.0617,    0.061359,    0.061018,    0.060677,    0.060337,    0.059996,    0.059655,    0.059314,    0.058973,    0.058632,\n",
       "           0.058291,     0.05795,    0.057609,    0.057269,    0.056928,    0.056587,    0.056246,    0.055905,    0.055564,    0.055223,    0.054882,    0.054542,    0.054201,     0.05386,    0.053519,    0.053178,    0.052837,    0.052496,    0.052155,    0.051814,    0.051474,    0.051133,    0.050792,\n",
       "           0.050451,     0.05011,    0.049769,    0.049428,    0.049087,    0.048746,    0.048406,    0.048065,    0.047724,    0.047383,    0.047042,    0.046701,     0.04636,    0.046019,    0.045679,    0.045338,    0.044997,    0.044656,    0.044315,    0.043974,    0.043633,    0.043292,    0.042951,\n",
       "           0.042611,     0.04227,    0.041929,    0.041588,    0.041247,    0.040906,    0.040565,    0.040224,    0.039883,    0.039543,    0.039202,    0.038861,     0.03852,    0.038179,    0.037838,    0.037497,    0.037156,    0.036816,    0.036475,    0.036134,    0.035793,    0.035452,    0.035111,\n",
       "            0.03477,    0.034429,    0.034088,    0.033748,    0.033407,    0.033066,    0.032725,    0.032384,    0.032043,    0.031702,    0.031361,     0.03102,     0.03068,    0.030339,    0.029998,    0.029657,    0.029316,    0.028975,    0.028634,    0.028293,    0.027953,    0.027612,    0.027271,\n",
       "            0.02693,    0.026589,    0.026248,    0.025907,    0.025566,    0.025225,    0.024885,    0.024544,    0.024203,    0.023862,    0.023521,     0.02318,    0.022839,    0.022498,    0.022157,    0.021817,    0.021476,    0.021135,    0.020794,    0.020453,    0.020112,    0.019771,     0.01943,\n",
       "            0.01909,    0.018749,    0.018408,    0.018067,    0.017726,    0.017385,    0.017044,    0.016703,    0.016362,    0.016022,    0.015681,     0.01534,    0.014999,    0.014658,    0.014317,    0.013976,    0.013635,    0.013294,    0.012954,    0.012613,    0.012272,    0.011931,     0.01159,\n",
       "           0.011249,    0.010908,    0.010567,    0.010227,   0.0098857,   0.0095448,   0.0092039,    0.008863,   0.0085221,   0.0081812,   0.0078403,   0.0074995,   0.0071586,   0.0068177,   0.0064768,   0.0061359,    0.005795,   0.0054542,   0.0051133,   0.0047724,   0.0044315,   0.0040906,   0.0037497,\n",
       "          0.0034088,    0.003068,   0.0027271,   0.0023862,   0.0020453,   0.0017044,   0.0013635,   0.0010227,  0.00068177,  0.00034088,           0]]), 'Recall', 'Precision'], [array([          0,    0.001001,    0.002002,    0.003003,    0.004004,    0.005005,    0.006006,    0.007007,    0.008008,    0.009009,     0.01001,    0.011011,    0.012012,    0.013013,    0.014014,    0.015015,    0.016016,    0.017017,    0.018018,    0.019019,     0.02002,    0.021021,    0.022022,    0.023023,\n",
       "          0.024024,    0.025025,    0.026026,    0.027027,    0.028028,    0.029029,     0.03003,    0.031031,    0.032032,    0.033033,    0.034034,    0.035035,    0.036036,    0.037037,    0.038038,    0.039039,     0.04004,    0.041041,    0.042042,    0.043043,    0.044044,    0.045045,    0.046046,    0.047047,\n",
       "          0.048048,    0.049049,     0.05005,    0.051051,    0.052052,    0.053053,    0.054054,    0.055055,    0.056056,    0.057057,    0.058058,    0.059059,     0.06006,    0.061061,    0.062062,    0.063063,    0.064064,    0.065065,    0.066066,    0.067067,    0.068068,    0.069069,     0.07007,    0.071071,\n",
       "          0.072072,    0.073073,    0.074074,    0.075075,    0.076076,    0.077077,    0.078078,    0.079079,     0.08008,    0.081081,    0.082082,    0.083083,    0.084084,    0.085085,    0.086086,    0.087087,    0.088088,    0.089089,     0.09009,    0.091091,    0.092092,    0.093093,    0.094094,    0.095095,\n",
       "          0.096096,    0.097097,    0.098098,    0.099099,      0.1001,      0.1011,      0.1021,      0.1031,      0.1041,     0.10511,     0.10611,     0.10711,     0.10811,     0.10911,     0.11011,     0.11111,     0.11211,     0.11311,     0.11411,     0.11512,     0.11612,     0.11712,     0.11812,     0.11912,\n",
       "           0.12012,     0.12112,     0.12212,     0.12312,     0.12412,     0.12513,     0.12613,     0.12713,     0.12813,     0.12913,     0.13013,     0.13113,     0.13213,     0.13313,     0.13413,     0.13514,     0.13614,     0.13714,     0.13814,     0.13914,     0.14014,     0.14114,     0.14214,     0.14314,\n",
       "           0.14414,     0.14515,     0.14615,     0.14715,     0.14815,     0.14915,     0.15015,     0.15115,     0.15215,     0.15315,     0.15415,     0.15516,     0.15616,     0.15716,     0.15816,     0.15916,     0.16016,     0.16116,     0.16216,     0.16316,     0.16416,     0.16517,     0.16617,     0.16717,\n",
       "           0.16817,     0.16917,     0.17017,     0.17117,     0.17217,     0.17317,     0.17417,     0.17518,     0.17618,     0.17718,     0.17818,     0.17918,     0.18018,     0.18118,     0.18218,     0.18318,     0.18418,     0.18519,     0.18619,     0.18719,     0.18819,     0.18919,     0.19019,     0.19119,\n",
       "           0.19219,     0.19319,     0.19419,      0.1952,      0.1962,      0.1972,      0.1982,      0.1992,      0.2002,      0.2012,      0.2022,      0.2032,      0.2042,     0.20521,     0.20621,     0.20721,     0.20821,     0.20921,     0.21021,     0.21121,     0.21221,     0.21321,     0.21421,     0.21522,\n",
       "           0.21622,     0.21722,     0.21822,     0.21922,     0.22022,     0.22122,     0.22222,     0.22322,     0.22422,     0.22523,     0.22623,     0.22723,     0.22823,     0.22923,     0.23023,     0.23123,     0.23223,     0.23323,     0.23423,     0.23524,     0.23624,     0.23724,     0.23824,     0.23924,\n",
       "           0.24024,     0.24124,     0.24224,     0.24324,     0.24424,     0.24525,     0.24625,     0.24725,     0.24825,     0.24925,     0.25025,     0.25125,     0.25225,     0.25325,     0.25425,     0.25526,     0.25626,     0.25726,     0.25826,     0.25926,     0.26026,     0.26126,     0.26226,     0.26326,\n",
       "           0.26426,     0.26527,     0.26627,     0.26727,     0.26827,     0.26927,     0.27027,     0.27127,     0.27227,     0.27327,     0.27427,     0.27528,     0.27628,     0.27728,     0.27828,     0.27928,     0.28028,     0.28128,     0.28228,     0.28328,     0.28428,     0.28529,     0.28629,     0.28729,\n",
       "           0.28829,     0.28929,     0.29029,     0.29129,     0.29229,     0.29329,     0.29429,      0.2953,      0.2963,      0.2973,      0.2983,      0.2993,      0.3003,      0.3013,      0.3023,      0.3033,      0.3043,     0.30531,     0.30631,     0.30731,     0.30831,     0.30931,     0.31031,     0.31131,\n",
       "           0.31231,     0.31331,     0.31431,     0.31532,     0.31632,     0.31732,     0.31832,     0.31932,     0.32032,     0.32132,     0.32232,     0.32332,     0.32432,     0.32533,     0.32633,     0.32733,     0.32833,     0.32933,     0.33033,     0.33133,     0.33233,     0.33333,     0.33433,     0.33534,\n",
       "           0.33634,     0.33734,     0.33834,     0.33934,     0.34034,     0.34134,     0.34234,     0.34334,     0.34434,     0.34535,     0.34635,     0.34735,     0.34835,     0.34935,     0.35035,     0.35135,     0.35235,     0.35335,     0.35435,     0.35536,     0.35636,     0.35736,     0.35836,     0.35936,\n",
       "           0.36036,     0.36136,     0.36236,     0.36336,     0.36436,     0.36537,     0.36637,     0.36737,     0.36837,     0.36937,     0.37037,     0.37137,     0.37237,     0.37337,     0.37437,     0.37538,     0.37638,     0.37738,     0.37838,     0.37938,     0.38038,     0.38138,     0.38238,     0.38338,\n",
       "           0.38438,     0.38539,     0.38639,     0.38739,     0.38839,     0.38939,     0.39039,     0.39139,     0.39239,     0.39339,     0.39439,      0.3954,      0.3964,      0.3974,      0.3984,      0.3994,      0.4004,      0.4014,      0.4024,      0.4034,      0.4044,     0.40541,     0.40641,     0.40741,\n",
       "           0.40841,     0.40941,     0.41041,     0.41141,     0.41241,     0.41341,     0.41441,     0.41542,     0.41642,     0.41742,     0.41842,     0.41942,     0.42042,     0.42142,     0.42242,     0.42342,     0.42442,     0.42543,     0.42643,     0.42743,     0.42843,     0.42943,     0.43043,     0.43143,\n",
       "           0.43243,     0.43343,     0.43443,     0.43544,     0.43644,     0.43744,     0.43844,     0.43944,     0.44044,     0.44144,     0.44244,     0.44344,     0.44444,     0.44545,     0.44645,     0.44745,     0.44845,     0.44945,     0.45045,     0.45145,     0.45245,     0.45345,     0.45445,     0.45546,\n",
       "           0.45646,     0.45746,     0.45846,     0.45946,     0.46046,     0.46146,     0.46246,     0.46346,     0.46446,     0.46547,     0.46647,     0.46747,     0.46847,     0.46947,     0.47047,     0.47147,     0.47247,     0.47347,     0.47447,     0.47548,     0.47648,     0.47748,     0.47848,     0.47948,\n",
       "           0.48048,     0.48148,     0.48248,     0.48348,     0.48448,     0.48549,     0.48649,     0.48749,     0.48849,     0.48949,     0.49049,     0.49149,     0.49249,     0.49349,     0.49449,      0.4955,      0.4965,      0.4975,      0.4985,      0.4995,      0.5005,      0.5015,      0.5025,      0.5035,\n",
       "            0.5045,     0.50551,     0.50651,     0.50751,     0.50851,     0.50951,     0.51051,     0.51151,     0.51251,     0.51351,     0.51451,     0.51552,     0.51652,     0.51752,     0.51852,     0.51952,     0.52052,     0.52152,     0.52252,     0.52352,     0.52452,     0.52553,     0.52653,     0.52753,\n",
       "           0.52853,     0.52953,     0.53053,     0.53153,     0.53253,     0.53353,     0.53453,     0.53554,     0.53654,     0.53754,     0.53854,     0.53954,     0.54054,     0.54154,     0.54254,     0.54354,     0.54454,     0.54555,     0.54655,     0.54755,     0.54855,     0.54955,     0.55055,     0.55155,\n",
       "           0.55255,     0.55355,     0.55455,     0.55556,     0.55656,     0.55756,     0.55856,     0.55956,     0.56056,     0.56156,     0.56256,     0.56356,     0.56456,     0.56557,     0.56657,     0.56757,     0.56857,     0.56957,     0.57057,     0.57157,     0.57257,     0.57357,     0.57457,     0.57558,\n",
       "           0.57658,     0.57758,     0.57858,     0.57958,     0.58058,     0.58158,     0.58258,     0.58358,     0.58458,     0.58559,     0.58659,     0.58759,     0.58859,     0.58959,     0.59059,     0.59159,     0.59259,     0.59359,     0.59459,      0.5956,      0.5966,      0.5976,      0.5986,      0.5996,\n",
       "            0.6006,      0.6016,      0.6026,      0.6036,      0.6046,     0.60561,     0.60661,     0.60761,     0.60861,     0.60961,     0.61061,     0.61161,     0.61261,     0.61361,     0.61461,     0.61562,     0.61662,     0.61762,     0.61862,     0.61962,     0.62062,     0.62162,     0.62262,     0.62362,\n",
       "           0.62462,     0.62563,     0.62663,     0.62763,     0.62863,     0.62963,     0.63063,     0.63163,     0.63263,     0.63363,     0.63463,     0.63564,     0.63664,     0.63764,     0.63864,     0.63964,     0.64064,     0.64164,     0.64264,     0.64364,     0.64464,     0.64565,     0.64665,     0.64765,\n",
       "           0.64865,     0.64965,     0.65065,     0.65165,     0.65265,     0.65365,     0.65465,     0.65566,     0.65666,     0.65766,     0.65866,     0.65966,     0.66066,     0.66166,     0.66266,     0.66366,     0.66466,     0.66567,     0.66667,     0.66767,     0.66867,     0.66967,     0.67067,     0.67167,\n",
       "           0.67267,     0.67367,     0.67467,     0.67568,     0.67668,     0.67768,     0.67868,     0.67968,     0.68068,     0.68168,     0.68268,     0.68368,     0.68468,     0.68569,     0.68669,     0.68769,     0.68869,     0.68969,     0.69069,     0.69169,     0.69269,     0.69369,     0.69469,      0.6957,\n",
       "            0.6967,      0.6977,      0.6987,      0.6997,      0.7007,      0.7017,      0.7027,      0.7037,      0.7047,     0.70571,     0.70671,     0.70771,     0.70871,     0.70971,     0.71071,     0.71171,     0.71271,     0.71371,     0.71471,     0.71572,     0.71672,     0.71772,     0.71872,     0.71972,\n",
       "           0.72072,     0.72172,     0.72272,     0.72372,     0.72472,     0.72573,     0.72673,     0.72773,     0.72873,     0.72973,     0.73073,     0.73173,     0.73273,     0.73373,     0.73473,     0.73574,     0.73674,     0.73774,     0.73874,     0.73974,     0.74074,     0.74174,     0.74274,     0.74374,\n",
       "           0.74474,     0.74575,     0.74675,     0.74775,     0.74875,     0.74975,     0.75075,     0.75175,     0.75275,     0.75375,     0.75475,     0.75576,     0.75676,     0.75776,     0.75876,     0.75976,     0.76076,     0.76176,     0.76276,     0.76376,     0.76476,     0.76577,     0.76677,     0.76777,\n",
       "           0.76877,     0.76977,     0.77077,     0.77177,     0.77277,     0.77377,     0.77477,     0.77578,     0.77678,     0.77778,     0.77878,     0.77978,     0.78078,     0.78178,     0.78278,     0.78378,     0.78478,     0.78579,     0.78679,     0.78779,     0.78879,     0.78979,     0.79079,     0.79179,\n",
       "           0.79279,     0.79379,     0.79479,      0.7958,      0.7968,      0.7978,      0.7988,      0.7998,      0.8008,      0.8018,      0.8028,      0.8038,      0.8048,     0.80581,     0.80681,     0.80781,     0.80881,     0.80981,     0.81081,     0.81181,     0.81281,     0.81381,     0.81481,     0.81582,\n",
       "           0.81682,     0.81782,     0.81882,     0.81982,     0.82082,     0.82182,     0.82282,     0.82382,     0.82482,     0.82583,     0.82683,     0.82783,     0.82883,     0.82983,     0.83083,     0.83183,     0.83283,     0.83383,     0.83483,     0.83584,     0.83684,     0.83784,     0.83884,     0.83984,\n",
       "           0.84084,     0.84184,     0.84284,     0.84384,     0.84484,     0.84585,     0.84685,     0.84785,     0.84885,     0.84985,     0.85085,     0.85185,     0.85285,     0.85385,     0.85485,     0.85586,     0.85686,     0.85786,     0.85886,     0.85986,     0.86086,     0.86186,     0.86286,     0.86386,\n",
       "           0.86486,     0.86587,     0.86687,     0.86787,     0.86887,     0.86987,     0.87087,     0.87187,     0.87287,     0.87387,     0.87487,     0.87588,     0.87688,     0.87788,     0.87888,     0.87988,     0.88088,     0.88188,     0.88288,     0.88388,     0.88488,     0.88589,     0.88689,     0.88789,\n",
       "           0.88889,     0.88989,     0.89089,     0.89189,     0.89289,     0.89389,     0.89489,      0.8959,      0.8969,      0.8979,      0.8989,      0.8999,      0.9009,      0.9019,      0.9029,      0.9039,      0.9049,     0.90591,     0.90691,     0.90791,     0.90891,     0.90991,     0.91091,     0.91191,\n",
       "           0.91291,     0.91391,     0.91491,     0.91592,     0.91692,     0.91792,     0.91892,     0.91992,     0.92092,     0.92192,     0.92292,     0.92392,     0.92492,     0.92593,     0.92693,     0.92793,     0.92893,     0.92993,     0.93093,     0.93193,     0.93293,     0.93393,     0.93493,     0.93594,\n",
       "           0.93694,     0.93794,     0.93894,     0.93994,     0.94094,     0.94194,     0.94294,     0.94394,     0.94494,     0.94595,     0.94695,     0.94795,     0.94895,     0.94995,     0.95095,     0.95195,     0.95295,     0.95395,     0.95495,     0.95596,     0.95696,     0.95796,     0.95896,     0.95996,\n",
       "           0.96096,     0.96196,     0.96296,     0.96396,     0.96496,     0.96597,     0.96697,     0.96797,     0.96897,     0.96997,     0.97097,     0.97197,     0.97297,     0.97397,     0.97497,     0.97598,     0.97698,     0.97798,     0.97898,     0.97998,     0.98098,     0.98198,     0.98298,     0.98398,\n",
       "           0.98498,     0.98599,     0.98699,     0.98799,     0.98899,     0.98999,     0.99099,     0.99199,     0.99299,     0.99399,     0.99499,       0.996,       0.997,       0.998,       0.999,           1]), array([[    0.12876,     0.12881,     0.17369,     0.20228,     0.22384,     0.24218,     0.25842,     0.27218,     0.28428,     0.29513,     0.30478,     0.31371,     0.32167,     0.32896,     0.33591,     0.34237,     0.34838,     0.35365,     0.35879,      0.3633,     0.36804,     0.37224,     0.37645,\n",
       "             0.3804,     0.38422,     0.38786,     0.39139,     0.39484,     0.39792,     0.40101,     0.40409,      0.4073,     0.41031,     0.41323,      0.4159,     0.41903,     0.42194,     0.42437,     0.42693,     0.42914,     0.43183,     0.43437,     0.43706,     0.43921,     0.44173,      0.4438,\n",
       "            0.44624,     0.44818,      0.4502,     0.45252,     0.45414,      0.4561,     0.45768,      0.4598,     0.46129,     0.46342,     0.46532,     0.46719,     0.46917,     0.47061,     0.47252,     0.47429,     0.47617,     0.47778,     0.47917,     0.48048,     0.48178,     0.48324,     0.48515,\n",
       "             0.4867,     0.48841,     0.48995,     0.49141,     0.49274,     0.49453,     0.49581,     0.49735,     0.49878,     0.50028,     0.50175,     0.50345,     0.50545,     0.50627,     0.50747,      0.5097,     0.51192,     0.51345,     0.51458,     0.51625,     0.51784,     0.51908,      0.5211,\n",
       "            0.52274,     0.52415,     0.52601,     0.52779,     0.52941,     0.53036,     0.53196,     0.53371,     0.53455,     0.53581,     0.53739,     0.53889,     0.53997,     0.54145,     0.54319,     0.54434,     0.54594,     0.54711,     0.54841,     0.54986,     0.55101,     0.55255,     0.55385,\n",
       "            0.55515,     0.55621,     0.55774,      0.5588,     0.56011,      0.5614,     0.56227,     0.56292,     0.56373,     0.56462,     0.56612,     0.56703,     0.56804,     0.56875,     0.56981,     0.57092,     0.57238,     0.57325,     0.57383,     0.57421,     0.57512,     0.57541,     0.57629,\n",
       "            0.57711,     0.57852,     0.57953,     0.58087,     0.58127,     0.58205,     0.58261,     0.58375,     0.58458,     0.58482,     0.58539,      0.5863,     0.58727,     0.58798,     0.58902,     0.58913,     0.58977,     0.59096,     0.59144,     0.59252,     0.59299,      0.5936,     0.59465,\n",
       "            0.59505,      0.5962,     0.59691,     0.59701,      0.5978,      0.5986,     0.59872,     0.59911,     0.59961,     0.60033,     0.60052,      0.6013,     0.60194,     0.60285,     0.60278,     0.60322,     0.60386,     0.60432,     0.60456,     0.60483,     0.60503,     0.60564,      0.6061,\n",
       "            0.60621,     0.60626,     0.60674,      0.6073,     0.60759,     0.60797,      0.6085,     0.60866,      0.6089,     0.60901,     0.60927,     0.60912,     0.60954,     0.60964,     0.60977,     0.60993,     0.60987,     0.61047,     0.61013,     0.61067,      0.6109,      0.6114,     0.61147,\n",
       "            0.61134,     0.61165,     0.61179,     0.61172,     0.61191,     0.61204,     0.61209,     0.61244,     0.61283,     0.61263,     0.61283,     0.61276,     0.61337,     0.61356,     0.61348,     0.61376,     0.61379,     0.61376,     0.61399,      0.6138,     0.61408,     0.61383,     0.61416,\n",
       "            0.61432,     0.61438,     0.61445,     0.61455,     0.61479,     0.61511,      0.6154,     0.61539,     0.61554,     0.61559,      0.6158,     0.61562,     0.61555,     0.61567,     0.61624,     0.61633,     0.61635,      0.6159,     0.61574,     0.61542,     0.61518,     0.61539,     0.61487,\n",
       "            0.61508,     0.61531,       0.615,     0.61506,     0.61503,     0.61451,     0.61428,     0.61404,     0.61393,     0.61374,     0.61369,     0.61354,     0.61363,     0.61376,     0.61374,      0.6129,     0.61327,     0.61313,     0.61248,     0.61247,     0.61225,     0.61231,     0.61164,\n",
       "            0.61163,     0.61198,     0.61176,     0.61195,     0.61213,     0.61202,     0.61199,     0.61188,     0.61178,     0.61176,     0.61149,     0.61106,     0.61051,     0.61027,     0.60974,     0.60949,     0.60912,     0.60885,     0.60865,     0.60812,     0.60766,     0.60753,     0.60739,\n",
       "            0.60706,     0.60613,     0.60537,     0.60465,     0.60447,     0.60365,     0.60254,      0.6019,      0.6016,     0.60138,     0.60138,     0.60124,     0.60127,     0.60152,     0.60112,     0.60064,      0.5998,     0.59964,     0.59937,     0.59882,     0.59829,     0.59831,     0.59778,\n",
       "            0.59767,     0.59698,     0.59626,     0.59583,     0.59498,     0.59433,     0.59416,     0.59366,     0.59308,     0.59263,     0.59232,     0.59232,     0.59231,     0.59166,     0.59093,     0.59125,      0.5913,     0.59053,     0.58996,     0.58965,      0.5894,     0.58876,     0.58806,\n",
       "            0.58761,     0.58682,     0.58639,     0.58552,      0.5856,     0.58548,     0.58498,     0.58428,     0.58403,     0.58351,     0.58257,     0.58229,     0.58137,     0.58107,     0.57978,     0.57888,     0.57863,     0.57817,     0.57817,     0.57745,     0.57706,     0.57666,     0.57605,\n",
       "            0.57539,     0.57452,     0.57385,     0.57347,     0.57291,     0.57292,     0.57187,     0.57157,     0.57044,     0.56952,     0.56914,     0.56847,     0.56809,     0.56724,     0.56681,     0.56603,     0.56534,     0.56458,     0.56379,     0.56338,     0.56228,      0.5619,     0.56063,\n",
       "            0.56013,     0.55978,     0.55926,     0.55764,     0.55719,     0.55685,     0.55588,     0.55525,     0.55502,     0.55425,     0.55316,     0.55262,     0.55211,     0.55132,     0.55099,     0.55008,     0.54979,      0.5491,     0.54773,      0.5468,     0.54634,     0.54524,     0.54471,\n",
       "            0.54391,     0.54289,     0.54237,     0.54188,     0.54086,     0.54001,     0.53957,     0.53899,     0.53839,      0.5379,     0.53757,     0.53684,     0.53585,     0.53496,     0.53433,      0.5338,     0.53309,     0.53227,     0.53168,     0.53102,     0.53005,     0.52895,     0.52824,\n",
       "            0.52714,     0.52635,     0.52588,      0.5247,       0.524,     0.52307,     0.52182,     0.52128,     0.52096,     0.52032,     0.51898,     0.51777,      0.5168,     0.51615,     0.51543,     0.51412,     0.51351,      0.5128,     0.51164,     0.51112,     0.51038,     0.50981,     0.50926,\n",
       "            0.50835,     0.50722,     0.50616,     0.50483,     0.50427,     0.50368,     0.50228,     0.50153,     0.50084,     0.50019,     0.49932,     0.49818,     0.49713,     0.49584,     0.49464,     0.49387,     0.49246,     0.49095,     0.48972,     0.48904,     0.48849,     0.48737,     0.48659,\n",
       "            0.48584,     0.48448,     0.48367,     0.48304,     0.48173,     0.48088,     0.47987,     0.47829,     0.47739,     0.47664,     0.47571,     0.47435,      0.4729,     0.47203,     0.47094,     0.47028,     0.46903,      0.4676,     0.46646,     0.46489,     0.46403,     0.46314,     0.46201,\n",
       "            0.46065,     0.45944,     0.45887,     0.45806,     0.45738,     0.45619,     0.45542,     0.45326,     0.45217,     0.45058,     0.44939,     0.44885,     0.44812,       0.447,     0.44561,     0.44429,     0.44345,     0.44209,     0.44094,     0.44069,     0.43989,     0.43882,     0.43784,\n",
       "            0.43672,     0.43559,     0.43476,     0.43399,      0.4328,     0.43115,     0.43015,     0.42927,     0.42794,     0.42716,     0.42672,     0.42501,     0.42365,     0.42266,     0.42217,     0.42103,     0.42062,     0.41967,     0.41879,     0.41735,     0.41657,     0.41569,     0.41517,\n",
       "            0.41401,     0.41309,     0.41169,     0.41037,     0.40964,     0.40856,     0.40701,     0.40573,     0.40482,     0.40412,     0.40274,     0.40183,     0.40075,     0.39947,     0.39869,     0.39742,     0.39653,     0.39626,     0.39466,     0.39348,     0.39274,     0.39101,     0.38998,\n",
       "            0.38928,     0.38766,      0.3863,      0.3851,     0.38444,     0.38336,     0.38183,     0.38041,     0.37881,     0.37779,     0.37637,     0.37531,     0.37457,     0.37337,     0.37172,     0.37042,     0.36876,     0.36772,     0.36619,     0.36504,      0.3635,     0.36236,     0.36151,\n",
       "            0.36031,     0.35919,     0.35779,     0.35684,     0.35576,     0.35425,     0.35299,     0.35195,     0.35101,     0.35021,     0.34924,     0.34799,     0.34651,     0.34562,     0.34469,      0.3435,     0.34284,     0.34141,     0.34088,     0.33984,     0.33809,     0.33741,     0.33609,\n",
       "            0.33499,      0.3341,     0.33322,     0.33283,     0.33121,     0.32975,     0.32834,     0.32679,     0.32559,     0.32465,     0.32336,     0.32205,     0.32107,        0.32,     0.31892,     0.31764,     0.31655,     0.31515,       0.314,     0.31196,     0.31151,      0.3095,     0.30858,\n",
       "            0.30735,     0.30628,     0.30457,     0.30328,     0.30248,     0.30148,     0.30043,     0.29909,      0.2978,     0.29613,     0.29494,     0.29362,     0.29294,     0.29145,     0.28996,     0.28767,     0.28616,     0.28496,     0.28352,     0.28265,     0.28193,     0.28087,     0.27968,\n",
       "            0.27847,     0.27735,     0.27599,     0.27399,      0.2727,     0.27103,     0.26979,     0.26885,     0.26794,     0.26682,     0.26586,     0.26469,     0.26391,     0.26237,     0.26075,     0.25974,     0.25869,     0.25665,     0.25535,     0.25349,     0.25259,     0.25133,     0.25028,\n",
       "            0.24884,      0.2478,     0.24647,     0.24586,     0.24442,     0.24256,     0.24074,     0.23907,     0.23822,     0.23664,     0.23483,     0.23293,     0.23061,     0.22954,     0.22853,     0.22731,      0.2265,     0.22584,     0.22473,     0.22339,     0.22218,     0.22072,     0.21966,\n",
       "            0.21861,     0.21757,     0.21629,     0.21508,     0.21382,     0.21257,     0.21147,     0.20926,     0.20773,     0.20589,     0.20518,      0.2043,     0.20376,     0.20274,     0.20149,     0.19973,     0.19842,     0.19756,     0.19679,     0.19575,     0.19474,     0.19371,     0.19203,\n",
       "            0.19069,     0.18975,     0.18843,     0.18755,     0.18637,     0.18458,     0.18292,     0.18071,     0.18042,      0.1795,     0.17813,     0.17652,     0.17522,     0.17355,     0.17139,     0.17016,     0.16908,     0.16802,     0.16637,     0.16496,     0.16331,     0.16248,     0.16054,\n",
       "            0.15937,     0.15782,      0.1572,     0.15571,     0.15397,     0.15319,     0.15228,     0.15033,     0.14873,     0.14614,     0.14505,     0.14416,     0.14267,     0.14179,      0.1406,     0.13878,     0.13739,      0.1351,     0.13407,     0.13198,     0.13071,     0.12877,     0.12765,\n",
       "            0.12683,      0.1254,     0.12422,     0.12267,     0.12109,      0.1198,     0.11865,     0.11728,     0.11586,     0.11482,     0.11352,     0.11223,     0.11037,     0.10887,     0.10787,     0.10744,     0.10544,      0.1038,     0.10267,     0.10174,     0.10059,     0.10032,    0.099008,\n",
       "           0.097388,    0.096667,    0.095868,    0.095051,    0.094186,    0.092273,    0.091338,    0.090788,    0.089357,     0.08825,     0.08731,    0.085783,    0.084452,    0.082932,    0.081701,    0.080829,    0.079013,    0.077287,    0.075758,    0.074573,    0.073548,    0.072614,    0.071663,\n",
       "           0.070937,    0.069512,    0.068716,    0.067955,    0.067392,    0.066514,      0.0662,    0.064947,    0.064273,    0.063367,    0.062697,    0.061632,    0.061046,    0.060187,    0.058944,     0.05775,    0.056819,    0.056204,    0.055848,    0.054874,    0.053902,     0.05354,    0.052594,\n",
       "           0.052294,    0.051806,     0.05123,    0.049618,     0.04866,    0.048119,    0.047714,    0.047073,    0.046939,    0.046621,     0.04622,    0.045456,    0.044902,    0.043859,    0.043394,    0.042966,    0.041874,    0.041113,    0.040163,    0.039605,    0.039079,    0.038399,    0.037852,\n",
       "            0.03767,    0.037536,    0.036655,    0.036202,    0.035729,    0.035632,    0.035428,    0.035234,    0.035073,    0.034774,    0.034671,    0.034559,    0.034406,    0.034237,    0.034127,    0.033981,    0.033856,    0.033737,    0.033574,     0.03326,    0.033168,    0.033103,    0.033039,\n",
       "           0.032556,    0.032112,     0.03204,    0.031968,    0.031758,    0.031625,    0.031304,    0.030745,    0.030285,    0.030164,    0.029764,    0.029294,    0.028796,    0.027919,    0.026864,    0.025914,    0.024347,     0.02269,    0.021562,    0.020167,    0.019185,    0.017344,    0.015769,\n",
       "           0.013571,    0.012027,    0.010803,    0.010478,   0.0088812,   0.0079225,   0.0070103,   0.0056744,   0.0050649,   0.0037832,   0.0030478,    0.002844,   0.0024861,   0.0020055,   0.0016591,   0.0014006,   0.0011209,  0.00098136,  0.00083787,  0.00050785,  0.00027347,           0,           0,\n",
       "                  0,           0,           0,           0,           0,           0,           0,           0,           0,           0,           0,           0,           0,           0,           0,           0,           0,           0,           0,           0,           0,           0,           0,\n",
       "                  0,           0,           0,           0,           0,           0,           0,           0,           0,           0,           0,           0,           0,           0,           0,           0,           0,           0,           0,           0,           0,           0,           0,\n",
       "                  0,           0,           0,           0,           0,           0,           0,           0,           0,           0,           0]]), 'Confidence', 'F1'], [array([          0,    0.001001,    0.002002,    0.003003,    0.004004,    0.005005,    0.006006,    0.007007,    0.008008,    0.009009,     0.01001,    0.011011,    0.012012,    0.013013,    0.014014,    0.015015,    0.016016,    0.017017,    0.018018,    0.019019,     0.02002,    0.021021,    0.022022,    0.023023,\n",
       "          0.024024,    0.025025,    0.026026,    0.027027,    0.028028,    0.029029,     0.03003,    0.031031,    0.032032,    0.033033,    0.034034,    0.035035,    0.036036,    0.037037,    0.038038,    0.039039,     0.04004,    0.041041,    0.042042,    0.043043,    0.044044,    0.045045,    0.046046,    0.047047,\n",
       "          0.048048,    0.049049,     0.05005,    0.051051,    0.052052,    0.053053,    0.054054,    0.055055,    0.056056,    0.057057,    0.058058,    0.059059,     0.06006,    0.061061,    0.062062,    0.063063,    0.064064,    0.065065,    0.066066,    0.067067,    0.068068,    0.069069,     0.07007,    0.071071,\n",
       "          0.072072,    0.073073,    0.074074,    0.075075,    0.076076,    0.077077,    0.078078,    0.079079,     0.08008,    0.081081,    0.082082,    0.083083,    0.084084,    0.085085,    0.086086,    0.087087,    0.088088,    0.089089,     0.09009,    0.091091,    0.092092,    0.093093,    0.094094,    0.095095,\n",
       "          0.096096,    0.097097,    0.098098,    0.099099,      0.1001,      0.1011,      0.1021,      0.1031,      0.1041,     0.10511,     0.10611,     0.10711,     0.10811,     0.10911,     0.11011,     0.11111,     0.11211,     0.11311,     0.11411,     0.11512,     0.11612,     0.11712,     0.11812,     0.11912,\n",
       "           0.12012,     0.12112,     0.12212,     0.12312,     0.12412,     0.12513,     0.12613,     0.12713,     0.12813,     0.12913,     0.13013,     0.13113,     0.13213,     0.13313,     0.13413,     0.13514,     0.13614,     0.13714,     0.13814,     0.13914,     0.14014,     0.14114,     0.14214,     0.14314,\n",
       "           0.14414,     0.14515,     0.14615,     0.14715,     0.14815,     0.14915,     0.15015,     0.15115,     0.15215,     0.15315,     0.15415,     0.15516,     0.15616,     0.15716,     0.15816,     0.15916,     0.16016,     0.16116,     0.16216,     0.16316,     0.16416,     0.16517,     0.16617,     0.16717,\n",
       "           0.16817,     0.16917,     0.17017,     0.17117,     0.17217,     0.17317,     0.17417,     0.17518,     0.17618,     0.17718,     0.17818,     0.17918,     0.18018,     0.18118,     0.18218,     0.18318,     0.18418,     0.18519,     0.18619,     0.18719,     0.18819,     0.18919,     0.19019,     0.19119,\n",
       "           0.19219,     0.19319,     0.19419,      0.1952,      0.1962,      0.1972,      0.1982,      0.1992,      0.2002,      0.2012,      0.2022,      0.2032,      0.2042,     0.20521,     0.20621,     0.20721,     0.20821,     0.20921,     0.21021,     0.21121,     0.21221,     0.21321,     0.21421,     0.21522,\n",
       "           0.21622,     0.21722,     0.21822,     0.21922,     0.22022,     0.22122,     0.22222,     0.22322,     0.22422,     0.22523,     0.22623,     0.22723,     0.22823,     0.22923,     0.23023,     0.23123,     0.23223,     0.23323,     0.23423,     0.23524,     0.23624,     0.23724,     0.23824,     0.23924,\n",
       "           0.24024,     0.24124,     0.24224,     0.24324,     0.24424,     0.24525,     0.24625,     0.24725,     0.24825,     0.24925,     0.25025,     0.25125,     0.25225,     0.25325,     0.25425,     0.25526,     0.25626,     0.25726,     0.25826,     0.25926,     0.26026,     0.26126,     0.26226,     0.26326,\n",
       "           0.26426,     0.26527,     0.26627,     0.26727,     0.26827,     0.26927,     0.27027,     0.27127,     0.27227,     0.27327,     0.27427,     0.27528,     0.27628,     0.27728,     0.27828,     0.27928,     0.28028,     0.28128,     0.28228,     0.28328,     0.28428,     0.28529,     0.28629,     0.28729,\n",
       "           0.28829,     0.28929,     0.29029,     0.29129,     0.29229,     0.29329,     0.29429,      0.2953,      0.2963,      0.2973,      0.2983,      0.2993,      0.3003,      0.3013,      0.3023,      0.3033,      0.3043,     0.30531,     0.30631,     0.30731,     0.30831,     0.30931,     0.31031,     0.31131,\n",
       "           0.31231,     0.31331,     0.31431,     0.31532,     0.31632,     0.31732,     0.31832,     0.31932,     0.32032,     0.32132,     0.32232,     0.32332,     0.32432,     0.32533,     0.32633,     0.32733,     0.32833,     0.32933,     0.33033,     0.33133,     0.33233,     0.33333,     0.33433,     0.33534,\n",
       "           0.33634,     0.33734,     0.33834,     0.33934,     0.34034,     0.34134,     0.34234,     0.34334,     0.34434,     0.34535,     0.34635,     0.34735,     0.34835,     0.34935,     0.35035,     0.35135,     0.35235,     0.35335,     0.35435,     0.35536,     0.35636,     0.35736,     0.35836,     0.35936,\n",
       "           0.36036,     0.36136,     0.36236,     0.36336,     0.36436,     0.36537,     0.36637,     0.36737,     0.36837,     0.36937,     0.37037,     0.37137,     0.37237,     0.37337,     0.37437,     0.37538,     0.37638,     0.37738,     0.37838,     0.37938,     0.38038,     0.38138,     0.38238,     0.38338,\n",
       "           0.38438,     0.38539,     0.38639,     0.38739,     0.38839,     0.38939,     0.39039,     0.39139,     0.39239,     0.39339,     0.39439,      0.3954,      0.3964,      0.3974,      0.3984,      0.3994,      0.4004,      0.4014,      0.4024,      0.4034,      0.4044,     0.40541,     0.40641,     0.40741,\n",
       "           0.40841,     0.40941,     0.41041,     0.41141,     0.41241,     0.41341,     0.41441,     0.41542,     0.41642,     0.41742,     0.41842,     0.41942,     0.42042,     0.42142,     0.42242,     0.42342,     0.42442,     0.42543,     0.42643,     0.42743,     0.42843,     0.42943,     0.43043,     0.43143,\n",
       "           0.43243,     0.43343,     0.43443,     0.43544,     0.43644,     0.43744,     0.43844,     0.43944,     0.44044,     0.44144,     0.44244,     0.44344,     0.44444,     0.44545,     0.44645,     0.44745,     0.44845,     0.44945,     0.45045,     0.45145,     0.45245,     0.45345,     0.45445,     0.45546,\n",
       "           0.45646,     0.45746,     0.45846,     0.45946,     0.46046,     0.46146,     0.46246,     0.46346,     0.46446,     0.46547,     0.46647,     0.46747,     0.46847,     0.46947,     0.47047,     0.47147,     0.47247,     0.47347,     0.47447,     0.47548,     0.47648,     0.47748,     0.47848,     0.47948,\n",
       "           0.48048,     0.48148,     0.48248,     0.48348,     0.48448,     0.48549,     0.48649,     0.48749,     0.48849,     0.48949,     0.49049,     0.49149,     0.49249,     0.49349,     0.49449,      0.4955,      0.4965,      0.4975,      0.4985,      0.4995,      0.5005,      0.5015,      0.5025,      0.5035,\n",
       "            0.5045,     0.50551,     0.50651,     0.50751,     0.50851,     0.50951,     0.51051,     0.51151,     0.51251,     0.51351,     0.51451,     0.51552,     0.51652,     0.51752,     0.51852,     0.51952,     0.52052,     0.52152,     0.52252,     0.52352,     0.52452,     0.52553,     0.52653,     0.52753,\n",
       "           0.52853,     0.52953,     0.53053,     0.53153,     0.53253,     0.53353,     0.53453,     0.53554,     0.53654,     0.53754,     0.53854,     0.53954,     0.54054,     0.54154,     0.54254,     0.54354,     0.54454,     0.54555,     0.54655,     0.54755,     0.54855,     0.54955,     0.55055,     0.55155,\n",
       "           0.55255,     0.55355,     0.55455,     0.55556,     0.55656,     0.55756,     0.55856,     0.55956,     0.56056,     0.56156,     0.56256,     0.56356,     0.56456,     0.56557,     0.56657,     0.56757,     0.56857,     0.56957,     0.57057,     0.57157,     0.57257,     0.57357,     0.57457,     0.57558,\n",
       "           0.57658,     0.57758,     0.57858,     0.57958,     0.58058,     0.58158,     0.58258,     0.58358,     0.58458,     0.58559,     0.58659,     0.58759,     0.58859,     0.58959,     0.59059,     0.59159,     0.59259,     0.59359,     0.59459,      0.5956,      0.5966,      0.5976,      0.5986,      0.5996,\n",
       "            0.6006,      0.6016,      0.6026,      0.6036,      0.6046,     0.60561,     0.60661,     0.60761,     0.60861,     0.60961,     0.61061,     0.61161,     0.61261,     0.61361,     0.61461,     0.61562,     0.61662,     0.61762,     0.61862,     0.61962,     0.62062,     0.62162,     0.62262,     0.62362,\n",
       "           0.62462,     0.62563,     0.62663,     0.62763,     0.62863,     0.62963,     0.63063,     0.63163,     0.63263,     0.63363,     0.63463,     0.63564,     0.63664,     0.63764,     0.63864,     0.63964,     0.64064,     0.64164,     0.64264,     0.64364,     0.64464,     0.64565,     0.64665,     0.64765,\n",
       "           0.64865,     0.64965,     0.65065,     0.65165,     0.65265,     0.65365,     0.65465,     0.65566,     0.65666,     0.65766,     0.65866,     0.65966,     0.66066,     0.66166,     0.66266,     0.66366,     0.66466,     0.66567,     0.66667,     0.66767,     0.66867,     0.66967,     0.67067,     0.67167,\n",
       "           0.67267,     0.67367,     0.67467,     0.67568,     0.67668,     0.67768,     0.67868,     0.67968,     0.68068,     0.68168,     0.68268,     0.68368,     0.68468,     0.68569,     0.68669,     0.68769,     0.68869,     0.68969,     0.69069,     0.69169,     0.69269,     0.69369,     0.69469,      0.6957,\n",
       "            0.6967,      0.6977,      0.6987,      0.6997,      0.7007,      0.7017,      0.7027,      0.7037,      0.7047,     0.70571,     0.70671,     0.70771,     0.70871,     0.70971,     0.71071,     0.71171,     0.71271,     0.71371,     0.71471,     0.71572,     0.71672,     0.71772,     0.71872,     0.71972,\n",
       "           0.72072,     0.72172,     0.72272,     0.72372,     0.72472,     0.72573,     0.72673,     0.72773,     0.72873,     0.72973,     0.73073,     0.73173,     0.73273,     0.73373,     0.73473,     0.73574,     0.73674,     0.73774,     0.73874,     0.73974,     0.74074,     0.74174,     0.74274,     0.74374,\n",
       "           0.74474,     0.74575,     0.74675,     0.74775,     0.74875,     0.74975,     0.75075,     0.75175,     0.75275,     0.75375,     0.75475,     0.75576,     0.75676,     0.75776,     0.75876,     0.75976,     0.76076,     0.76176,     0.76276,     0.76376,     0.76476,     0.76577,     0.76677,     0.76777,\n",
       "           0.76877,     0.76977,     0.77077,     0.77177,     0.77277,     0.77377,     0.77477,     0.77578,     0.77678,     0.77778,     0.77878,     0.77978,     0.78078,     0.78178,     0.78278,     0.78378,     0.78478,     0.78579,     0.78679,     0.78779,     0.78879,     0.78979,     0.79079,     0.79179,\n",
       "           0.79279,     0.79379,     0.79479,      0.7958,      0.7968,      0.7978,      0.7988,      0.7998,      0.8008,      0.8018,      0.8028,      0.8038,      0.8048,     0.80581,     0.80681,     0.80781,     0.80881,     0.80981,     0.81081,     0.81181,     0.81281,     0.81381,     0.81481,     0.81582,\n",
       "           0.81682,     0.81782,     0.81882,     0.81982,     0.82082,     0.82182,     0.82282,     0.82382,     0.82482,     0.82583,     0.82683,     0.82783,     0.82883,     0.82983,     0.83083,     0.83183,     0.83283,     0.83383,     0.83483,     0.83584,     0.83684,     0.83784,     0.83884,     0.83984,\n",
       "           0.84084,     0.84184,     0.84284,     0.84384,     0.84484,     0.84585,     0.84685,     0.84785,     0.84885,     0.84985,     0.85085,     0.85185,     0.85285,     0.85385,     0.85485,     0.85586,     0.85686,     0.85786,     0.85886,     0.85986,     0.86086,     0.86186,     0.86286,     0.86386,\n",
       "           0.86486,     0.86587,     0.86687,     0.86787,     0.86887,     0.86987,     0.87087,     0.87187,     0.87287,     0.87387,     0.87487,     0.87588,     0.87688,     0.87788,     0.87888,     0.87988,     0.88088,     0.88188,     0.88288,     0.88388,     0.88488,     0.88589,     0.88689,     0.88789,\n",
       "           0.88889,     0.88989,     0.89089,     0.89189,     0.89289,     0.89389,     0.89489,      0.8959,      0.8969,      0.8979,      0.8989,      0.8999,      0.9009,      0.9019,      0.9029,      0.9039,      0.9049,     0.90591,     0.90691,     0.90791,     0.90891,     0.90991,     0.91091,     0.91191,\n",
       "           0.91291,     0.91391,     0.91491,     0.91592,     0.91692,     0.91792,     0.91892,     0.91992,     0.92092,     0.92192,     0.92292,     0.92392,     0.92492,     0.92593,     0.92693,     0.92793,     0.92893,     0.92993,     0.93093,     0.93193,     0.93293,     0.93393,     0.93493,     0.93594,\n",
       "           0.93694,     0.93794,     0.93894,     0.93994,     0.94094,     0.94194,     0.94294,     0.94394,     0.94494,     0.94595,     0.94695,     0.94795,     0.94895,     0.94995,     0.95095,     0.95195,     0.95295,     0.95395,     0.95495,     0.95596,     0.95696,     0.95796,     0.95896,     0.95996,\n",
       "           0.96096,     0.96196,     0.96296,     0.96396,     0.96496,     0.96597,     0.96697,     0.96797,     0.96897,     0.96997,     0.97097,     0.97197,     0.97297,     0.97397,     0.97497,     0.97598,     0.97698,     0.97798,     0.97898,     0.97998,     0.98098,     0.98198,     0.98298,     0.98398,\n",
       "           0.98498,     0.98599,     0.98699,     0.98799,     0.98899,     0.98999,     0.99099,     0.99199,     0.99299,     0.99399,     0.99499,       0.996,       0.997,       0.998,       0.999,           1]), array([[   0.070057,    0.070088,    0.097604,     0.11612,     0.13065,     0.14341,     0.15501,     0.16514,     0.17424,     0.18261,     0.19016,     0.19729,     0.20368,     0.20971,     0.21552,     0.22101,     0.22617,     0.23081,     0.23536,     0.23939,     0.24367,     0.24749,     0.25136,\n",
       "            0.25503,     0.25861,     0.26205,     0.26545,     0.26875,     0.27182,     0.27486,     0.27791,      0.2811,     0.28406,     0.28704,     0.28976,     0.29289,     0.29585,     0.29838,     0.30105,     0.30344,     0.30627,     0.30892,     0.31178,     0.31421,      0.3169,      0.3192,\n",
       "            0.32179,     0.32392,     0.32619,     0.32871,     0.33068,     0.33291,     0.33473,     0.33717,     0.33898,     0.34142,     0.34372,     0.34592,     0.34819,     0.34997,     0.35217,     0.35426,     0.35646,     0.35843,     0.36025,     0.36193,     0.36365,     0.36563,     0.36793,\n",
       "            0.36994,     0.37215,     0.37418,      0.3762,      0.3781,     0.38032,     0.38212,     0.38426,     0.38639,     0.38845,     0.39077,     0.39299,     0.39567,     0.39744,     0.39947,      0.4025,     0.40556,     0.40804,     0.40996,     0.41245,     0.41479,     0.41704,     0.41994,\n",
       "            0.42248,     0.42502,     0.42795,     0.43073,     0.43364,     0.43543,     0.43802,     0.44103,     0.44299,     0.44534,     0.44785,     0.45037,     0.45261,     0.45526,     0.45808,     0.46024,     0.46294,     0.46522,     0.46767,     0.47059,      0.4728,     0.47551,     0.47803,\n",
       "            0.48047,     0.48287,     0.48586,     0.48798,     0.49073,     0.49325,     0.49525,      0.4971,     0.49945,     0.50175,     0.50447,     0.50661,     0.50894,     0.51096,     0.51339,     0.51575,     0.51858,     0.52107,     0.52329,     0.52502,     0.52712,     0.52859,      0.5308,\n",
       "            0.53293,      0.5359,     0.53811,     0.54078,     0.54245,     0.54445,     0.54636,     0.54903,     0.55093,     0.55239,     0.55422,      0.5563,     0.55875,     0.56089,     0.56341,     0.56455,     0.56652,      0.5688,     0.57099,     0.57349,     0.57532,     0.57693,     0.57929,\n",
       "            0.58092,     0.58375,      0.5859,     0.58731,     0.58964,     0.59192,     0.59349,     0.59554,     0.59765,     0.60009,      0.6018,     0.60375,     0.60584,     0.60813,     0.60945,     0.61124,     0.61346,      0.6151,     0.61671,     0.61851,     0.62057,     0.62281,     0.62473,\n",
       "            0.62611,     0.62709,     0.62918,     0.63095,     0.63245,     0.63427,     0.63643,     0.63778,     0.63944,     0.64082,     0.64256,     0.64361,     0.64561,     0.64747,     0.64931,     0.65112,     0.65232,      0.6543,      0.6555,     0.65797,     0.66003,     0.66208,     0.66367,\n",
       "            0.66529,     0.66682,     0.66833,     0.66958,     0.67127,     0.67233,       0.674,     0.67594,     0.67784,     0.67909,     0.68089,     0.68186,     0.68408,     0.68523,     0.68651,      0.6885,     0.68989,     0.69099,      0.6923,     0.69301,     0.69401,     0.69502,     0.69676,\n",
       "            0.69868,     0.69986,     0.70146,     0.70283,     0.70455,     0.70664,     0.70823,     0.70948,     0.71116,     0.71292,     0.71433,     0.71594,      0.7174,     0.71872,     0.72145,     0.72288,     0.72415,     0.72529,     0.72676,     0.72783,     0.72921,     0.73087,     0.73206,\n",
       "            0.73339,     0.73477,     0.73588,     0.73694,     0.73833,     0.73908,     0.73969,     0.74044,     0.74172,     0.74262,     0.74397,     0.74491,      0.7459,     0.74727,     0.74856,     0.74907,     0.75045,      0.7516,     0.75244,     0.75395,     0.75501,     0.75719,     0.75797,\n",
       "            0.75876,     0.76068,     0.76165,     0.76341,      0.7651,     0.76645,     0.76781,     0.76879,     0.76952,     0.77079,      0.7715,     0.77199,     0.77271,     0.77326,     0.77474,     0.77585,     0.77644,     0.77738,     0.77814,     0.77863,     0.77934,     0.78037,     0.78151,\n",
       "            0.78207,     0.78297,      0.7837,     0.78389,     0.78498,     0.78538,     0.78588,     0.78604,     0.78732,     0.78837,     0.78927,     0.79054,     0.79188,     0.79379,      0.7945,     0.79518,     0.79537,     0.79635,     0.79789,     0.79857,     0.79948,     0.80048,     0.80146,\n",
       "            0.80239,      0.8034,     0.80375,     0.80434,     0.80506,     0.80527,     0.80603,     0.80677,     0.80749,     0.80852,     0.80933,     0.81019,     0.81147,     0.81195,     0.81266,     0.81387,     0.81496,     0.81529,     0.81545,     0.81591,     0.81674,     0.81747,     0.81808,\n",
       "            0.82005,     0.82045,       0.821,     0.82113,     0.82249,     0.82321,      0.8236,     0.82445,     0.82527,     0.82586,     0.82649,     0.82791,     0.82812,     0.82907,     0.82898,     0.82951,     0.82996,      0.8302,     0.83194,     0.83251,     0.83321,     0.83424,     0.83503,\n",
       "            0.83536,      0.8361,     0.83634,     0.83746,     0.83787,     0.83897,     0.83895,     0.84007,     0.84055,     0.84096,     0.84183,     0.84247,     0.84307,     0.84337,     0.84498,     0.84531,     0.84567,     0.84604,      0.8462,     0.84696,     0.84736,     0.84782,     0.84846,\n",
       "            0.84906,     0.84978,     0.85014,     0.85023,     0.85109,     0.85228,     0.85244,     0.85317,     0.85372,     0.85442,     0.85486,     0.85496,     0.85579,     0.85612,     0.85705,     0.85724,     0.85794,     0.85837,     0.85827,     0.85903,     0.85963,     0.85962,      0.8617,\n",
       "            0.86267,     0.86302,      0.8637,     0.86372,     0.86392,     0.86467,     0.86589,     0.86657,     0.86656,     0.86667,     0.86786,     0.86814,     0.86805,     0.86864,     0.87008,     0.87111,     0.87177,     0.87224,     0.87231,     0.87277,     0.87303,     0.87379,     0.87412,\n",
       "            0.87435,     0.87564,     0.87708,     0.87767,     0.87841,     0.87851,      0.8789,     0.88033,     0.88169,     0.88224,     0.88263,     0.88269,     0.88305,     0.88301,     0.88383,       0.884,     0.88442,     0.88504,     0.88548,     0.88553,     0.88573,     0.88588,     0.88602,\n",
       "            0.88689,     0.88697,     0.88758,     0.88884,     0.88909,     0.88995,     0.88999,     0.88991,     0.89041,     0.89108,     0.89184,     0.89243,     0.89278,      0.8935,     0.89382,     0.89426,     0.89432,     0.89415,      0.8945,     0.89596,      0.8961,      0.8969,     0.89736,\n",
       "            0.89857,     0.89947,     0.89949,     0.90044,     0.90102,     0.90193,     0.90236,      0.9022,     0.90267,     0.90331,     0.90409,     0.90446,     0.90527,       0.906,     0.90574,     0.90699,     0.90717,     0.90755,     0.90776,     0.90763,     0.90791,     0.90851,     0.90864,\n",
       "            0.90862,     0.90901,     0.90913,     0.90968,     0.91001,     0.90998,      0.9108,     0.91079,     0.91129,     0.91093,     0.91141,     0.91223,      0.9129,     0.91265,     0.91258,     0.91254,     0.91276,     0.91307,     0.91338,     0.91405,     0.91493,     0.91522,     0.91579,\n",
       "            0.91607,     0.91635,     0.91698,     0.91707,     0.91708,     0.91734,     0.91821,     0.91931,     0.92013,     0.92079,     0.92222,     0.92229,     0.92229,     0.92236,     0.92254,     0.92315,     0.92421,     0.92401,     0.92411,      0.9241,     0.92481,      0.9255,     0.92569,\n",
       "            0.92544,     0.92525,     0.92495,     0.92467,     0.92511,     0.92601,     0.92576,     0.92579,     0.92681,     0.92697,     0.92741,     0.92877,     0.92904,     0.92972,     0.92987,     0.92982,     0.93037,     0.93127,     0.93127,     0.93135,      0.9312,     0.93084,     0.93063,\n",
       "            0.93049,     0.93015,     0.93052,     0.93076,     0.93124,     0.93189,     0.93225,     0.93229,      0.9323,     0.93209,     0.93179,     0.93191,      0.9321,     0.93219,     0.93185,     0.93262,     0.93262,      0.9324,     0.93243,     0.93254,     0.93257,     0.93269,     0.93358,\n",
       "            0.93441,     0.93454,     0.93425,     0.93441,     0.93492,     0.93498,     0.93471,     0.93487,     0.93467,     0.93451,     0.93487,     0.93554,     0.93599,      0.9358,     0.93637,     0.93612,     0.93637,     0.93646,     0.93713,      0.9373,     0.93812,     0.93837,      0.9381,\n",
       "            0.93827,     0.93915,     0.94032,     0.94118,     0.94113,     0.94125,     0.94097,     0.94065,     0.94082,     0.94146,     0.94162,     0.94178,      0.9417,     0.94179,     0.94242,     0.94216,     0.94194,     0.94339,      0.9436,     0.94407,     0.94398,     0.94536,     0.94608,\n",
       "            0.94675,     0.94699,     0.94712,     0.94825,     0.94857,     0.94838,     0.94864,     0.94886,     0.94956,     0.94924,     0.94997,     0.95117,     0.95153,     0.95261,     0.95295,     0.95303,     0.95326,     0.95405,     0.95481,     0.95465,     0.95504,     0.95534,     0.95619,\n",
       "             0.9565,     0.95631,     0.95659,     0.95624,     0.95601,     0.95658,     0.95712,     0.95762,     0.95843,     0.95896,     0.95918,     0.95954,     0.95941,     0.95915,     0.95887,     0.95869,     0.95908,      0.9593,     0.95966,     0.95933,     0.96035,     0.96132,     0.96115,\n",
       "             0.9609,     0.96072,     0.96171,      0.9616,     0.96259,     0.96477,     0.96448,      0.9642,      0.9647,     0.96573,     0.96545,     0.96514,     0.96542,     0.96524,     0.96508,     0.96555,     0.96541,     0.96638,     0.96649,     0.96627,     0.96676,     0.96722,     0.96705,\n",
       "            0.96759,     0.96742,     0.96793,     0.96846,     0.96899,     0.96879,     0.96861,     0.96825,     0.96951,     0.97074,      0.9714,     0.97204,     0.97196,     0.97259,      0.9724,     0.97214,     0.97194,     0.97181,     0.97169,     0.97153,     0.97219,     0.97285,     0.97259,\n",
       "            0.97239,     0.97224,     0.97288,     0.97274,     0.97256,     0.97227,       0.972,     0.97164,     0.97248,     0.97233,      0.9721,     0.97183,      0.9716,     0.97131,     0.97187,      0.9726,     0.97337,     0.97319,     0.97486,     0.97562,     0.97536,     0.97522,     0.97491,\n",
       "            0.97471,     0.97445,     0.97538,     0.97513,     0.97697,     0.97792,     0.97778,     0.97748,     0.97741,     0.97793,      0.9782,     0.97991,     0.97969,     0.98074,     0.98176,      0.9815,     0.98131,     0.98097,     0.98132,     0.98177,     0.98159,      0.9813,     0.98112,\n",
       "            0.98233,     0.98347,     0.98467,     0.98447,     0.98426,     0.98408,     0.98392,     0.98518,     0.98499,     0.98485,     0.98466,     0.98448,     0.98421,     0.98398,     0.98383,     0.98376,     0.98344,     0.98317,     0.98465,      0.9845,     0.98604,       0.986,     0.98756,\n",
       "            0.98913,     0.98905,     0.98919,     0.99069,      0.9906,      0.9904,      0.9903,     0.99024,     0.99008,     0.98995,     0.99185,      0.9917,     0.99156,      0.9914,     0.99127,     0.99117,     0.99096,     0.99075,     0.99056,     0.99279,     0.99268,     0.99259,     0.99249,\n",
       "            0.99241,     0.99225,     0.99215,     0.99206,       0.992,     0.99189,     0.99185,     0.99444,     0.99584,     0.99714,     0.99711,     0.99706,     0.99703,     0.99699,     0.99692,     0.99686,      0.9968,           1,           1,           1,           1,           1,           1,\n",
       "                  1,           1,           1,           1,           1,           1,           1,           1,           1,           1,           1,           1,           1,           1,           1,           1,           1,           1,           1,           1,           1,           1,           1,\n",
       "                  1,           1,           1,           1,           1,           1,           1,           1,           1,           1,           1,           1,           1,           1,           1,           1,           1,           1,           1,           1,           1,           1,           1,\n",
       "                  1,           1,           1,           1,           1,           1,           1,           1,           1,           1,           1,           1,           1,           1,           1,           1,           1,           1,           1,           1,           1,           1,           1,\n",
       "                  1,           1,           1,           1,           1,           1,           1,           1,           1,           1,           1,           1,           1,           1,           1,           1,           1,           1,           1,           1,           1,           1,           1,\n",
       "                  1,           1,           1,           1,           1,           1,           1,           1,           1,           1,           1,           1,           1,           1,           1,           1,           1,           1,           1,           1,           1,           1,           1,\n",
       "                  1,           1,           1,           1,           1,           1,           1,           1,           1,           1,           1,           1,           1,           1,           1,           1,           1,           1,           1,           1,           1,           1,           1,\n",
       "                  1,           1,           1,           1,           1,           1,           1,           1,           1,           1,           1]]), 'Confidence', 'Precision'], [array([          0,    0.001001,    0.002002,    0.003003,    0.004004,    0.005005,    0.006006,    0.007007,    0.008008,    0.009009,     0.01001,    0.011011,    0.012012,    0.013013,    0.014014,    0.015015,    0.016016,    0.017017,    0.018018,    0.019019,     0.02002,    0.021021,    0.022022,    0.023023,\n",
       "          0.024024,    0.025025,    0.026026,    0.027027,    0.028028,    0.029029,     0.03003,    0.031031,    0.032032,    0.033033,    0.034034,    0.035035,    0.036036,    0.037037,    0.038038,    0.039039,     0.04004,    0.041041,    0.042042,    0.043043,    0.044044,    0.045045,    0.046046,    0.047047,\n",
       "          0.048048,    0.049049,     0.05005,    0.051051,    0.052052,    0.053053,    0.054054,    0.055055,    0.056056,    0.057057,    0.058058,    0.059059,     0.06006,    0.061061,    0.062062,    0.063063,    0.064064,    0.065065,    0.066066,    0.067067,    0.068068,    0.069069,     0.07007,    0.071071,\n",
       "          0.072072,    0.073073,    0.074074,    0.075075,    0.076076,    0.077077,    0.078078,    0.079079,     0.08008,    0.081081,    0.082082,    0.083083,    0.084084,    0.085085,    0.086086,    0.087087,    0.088088,    0.089089,     0.09009,    0.091091,    0.092092,    0.093093,    0.094094,    0.095095,\n",
       "          0.096096,    0.097097,    0.098098,    0.099099,      0.1001,      0.1011,      0.1021,      0.1031,      0.1041,     0.10511,     0.10611,     0.10711,     0.10811,     0.10911,     0.11011,     0.11111,     0.11211,     0.11311,     0.11411,     0.11512,     0.11612,     0.11712,     0.11812,     0.11912,\n",
       "           0.12012,     0.12112,     0.12212,     0.12312,     0.12412,     0.12513,     0.12613,     0.12713,     0.12813,     0.12913,     0.13013,     0.13113,     0.13213,     0.13313,     0.13413,     0.13514,     0.13614,     0.13714,     0.13814,     0.13914,     0.14014,     0.14114,     0.14214,     0.14314,\n",
       "           0.14414,     0.14515,     0.14615,     0.14715,     0.14815,     0.14915,     0.15015,     0.15115,     0.15215,     0.15315,     0.15415,     0.15516,     0.15616,     0.15716,     0.15816,     0.15916,     0.16016,     0.16116,     0.16216,     0.16316,     0.16416,     0.16517,     0.16617,     0.16717,\n",
       "           0.16817,     0.16917,     0.17017,     0.17117,     0.17217,     0.17317,     0.17417,     0.17518,     0.17618,     0.17718,     0.17818,     0.17918,     0.18018,     0.18118,     0.18218,     0.18318,     0.18418,     0.18519,     0.18619,     0.18719,     0.18819,     0.18919,     0.19019,     0.19119,\n",
       "           0.19219,     0.19319,     0.19419,      0.1952,      0.1962,      0.1972,      0.1982,      0.1992,      0.2002,      0.2012,      0.2022,      0.2032,      0.2042,     0.20521,     0.20621,     0.20721,     0.20821,     0.20921,     0.21021,     0.21121,     0.21221,     0.21321,     0.21421,     0.21522,\n",
       "           0.21622,     0.21722,     0.21822,     0.21922,     0.22022,     0.22122,     0.22222,     0.22322,     0.22422,     0.22523,     0.22623,     0.22723,     0.22823,     0.22923,     0.23023,     0.23123,     0.23223,     0.23323,     0.23423,     0.23524,     0.23624,     0.23724,     0.23824,     0.23924,\n",
       "           0.24024,     0.24124,     0.24224,     0.24324,     0.24424,     0.24525,     0.24625,     0.24725,     0.24825,     0.24925,     0.25025,     0.25125,     0.25225,     0.25325,     0.25425,     0.25526,     0.25626,     0.25726,     0.25826,     0.25926,     0.26026,     0.26126,     0.26226,     0.26326,\n",
       "           0.26426,     0.26527,     0.26627,     0.26727,     0.26827,     0.26927,     0.27027,     0.27127,     0.27227,     0.27327,     0.27427,     0.27528,     0.27628,     0.27728,     0.27828,     0.27928,     0.28028,     0.28128,     0.28228,     0.28328,     0.28428,     0.28529,     0.28629,     0.28729,\n",
       "           0.28829,     0.28929,     0.29029,     0.29129,     0.29229,     0.29329,     0.29429,      0.2953,      0.2963,      0.2973,      0.2983,      0.2993,      0.3003,      0.3013,      0.3023,      0.3033,      0.3043,     0.30531,     0.30631,     0.30731,     0.30831,     0.30931,     0.31031,     0.31131,\n",
       "           0.31231,     0.31331,     0.31431,     0.31532,     0.31632,     0.31732,     0.31832,     0.31932,     0.32032,     0.32132,     0.32232,     0.32332,     0.32432,     0.32533,     0.32633,     0.32733,     0.32833,     0.32933,     0.33033,     0.33133,     0.33233,     0.33333,     0.33433,     0.33534,\n",
       "           0.33634,     0.33734,     0.33834,     0.33934,     0.34034,     0.34134,     0.34234,     0.34334,     0.34434,     0.34535,     0.34635,     0.34735,     0.34835,     0.34935,     0.35035,     0.35135,     0.35235,     0.35335,     0.35435,     0.35536,     0.35636,     0.35736,     0.35836,     0.35936,\n",
       "           0.36036,     0.36136,     0.36236,     0.36336,     0.36436,     0.36537,     0.36637,     0.36737,     0.36837,     0.36937,     0.37037,     0.37137,     0.37237,     0.37337,     0.37437,     0.37538,     0.37638,     0.37738,     0.37838,     0.37938,     0.38038,     0.38138,     0.38238,     0.38338,\n",
       "           0.38438,     0.38539,     0.38639,     0.38739,     0.38839,     0.38939,     0.39039,     0.39139,     0.39239,     0.39339,     0.39439,      0.3954,      0.3964,      0.3974,      0.3984,      0.3994,      0.4004,      0.4014,      0.4024,      0.4034,      0.4044,     0.40541,     0.40641,     0.40741,\n",
       "           0.40841,     0.40941,     0.41041,     0.41141,     0.41241,     0.41341,     0.41441,     0.41542,     0.41642,     0.41742,     0.41842,     0.41942,     0.42042,     0.42142,     0.42242,     0.42342,     0.42442,     0.42543,     0.42643,     0.42743,     0.42843,     0.42943,     0.43043,     0.43143,\n",
       "           0.43243,     0.43343,     0.43443,     0.43544,     0.43644,     0.43744,     0.43844,     0.43944,     0.44044,     0.44144,     0.44244,     0.44344,     0.44444,     0.44545,     0.44645,     0.44745,     0.44845,     0.44945,     0.45045,     0.45145,     0.45245,     0.45345,     0.45445,     0.45546,\n",
       "           0.45646,     0.45746,     0.45846,     0.45946,     0.46046,     0.46146,     0.46246,     0.46346,     0.46446,     0.46547,     0.46647,     0.46747,     0.46847,     0.46947,     0.47047,     0.47147,     0.47247,     0.47347,     0.47447,     0.47548,     0.47648,     0.47748,     0.47848,     0.47948,\n",
       "           0.48048,     0.48148,     0.48248,     0.48348,     0.48448,     0.48549,     0.48649,     0.48749,     0.48849,     0.48949,     0.49049,     0.49149,     0.49249,     0.49349,     0.49449,      0.4955,      0.4965,      0.4975,      0.4985,      0.4995,      0.5005,      0.5015,      0.5025,      0.5035,\n",
       "            0.5045,     0.50551,     0.50651,     0.50751,     0.50851,     0.50951,     0.51051,     0.51151,     0.51251,     0.51351,     0.51451,     0.51552,     0.51652,     0.51752,     0.51852,     0.51952,     0.52052,     0.52152,     0.52252,     0.52352,     0.52452,     0.52553,     0.52653,     0.52753,\n",
       "           0.52853,     0.52953,     0.53053,     0.53153,     0.53253,     0.53353,     0.53453,     0.53554,     0.53654,     0.53754,     0.53854,     0.53954,     0.54054,     0.54154,     0.54254,     0.54354,     0.54454,     0.54555,     0.54655,     0.54755,     0.54855,     0.54955,     0.55055,     0.55155,\n",
       "           0.55255,     0.55355,     0.55455,     0.55556,     0.55656,     0.55756,     0.55856,     0.55956,     0.56056,     0.56156,     0.56256,     0.56356,     0.56456,     0.56557,     0.56657,     0.56757,     0.56857,     0.56957,     0.57057,     0.57157,     0.57257,     0.57357,     0.57457,     0.57558,\n",
       "           0.57658,     0.57758,     0.57858,     0.57958,     0.58058,     0.58158,     0.58258,     0.58358,     0.58458,     0.58559,     0.58659,     0.58759,     0.58859,     0.58959,     0.59059,     0.59159,     0.59259,     0.59359,     0.59459,      0.5956,      0.5966,      0.5976,      0.5986,      0.5996,\n",
       "            0.6006,      0.6016,      0.6026,      0.6036,      0.6046,     0.60561,     0.60661,     0.60761,     0.60861,     0.60961,     0.61061,     0.61161,     0.61261,     0.61361,     0.61461,     0.61562,     0.61662,     0.61762,     0.61862,     0.61962,     0.62062,     0.62162,     0.62262,     0.62362,\n",
       "           0.62462,     0.62563,     0.62663,     0.62763,     0.62863,     0.62963,     0.63063,     0.63163,     0.63263,     0.63363,     0.63463,     0.63564,     0.63664,     0.63764,     0.63864,     0.63964,     0.64064,     0.64164,     0.64264,     0.64364,     0.64464,     0.64565,     0.64665,     0.64765,\n",
       "           0.64865,     0.64965,     0.65065,     0.65165,     0.65265,     0.65365,     0.65465,     0.65566,     0.65666,     0.65766,     0.65866,     0.65966,     0.66066,     0.66166,     0.66266,     0.66366,     0.66466,     0.66567,     0.66667,     0.66767,     0.66867,     0.66967,     0.67067,     0.67167,\n",
       "           0.67267,     0.67367,     0.67467,     0.67568,     0.67668,     0.67768,     0.67868,     0.67968,     0.68068,     0.68168,     0.68268,     0.68368,     0.68468,     0.68569,     0.68669,     0.68769,     0.68869,     0.68969,     0.69069,     0.69169,     0.69269,     0.69369,     0.69469,      0.6957,\n",
       "            0.6967,      0.6977,      0.6987,      0.6997,      0.7007,      0.7017,      0.7027,      0.7037,      0.7047,     0.70571,     0.70671,     0.70771,     0.70871,     0.70971,     0.71071,     0.71171,     0.71271,     0.71371,     0.71471,     0.71572,     0.71672,     0.71772,     0.71872,     0.71972,\n",
       "           0.72072,     0.72172,     0.72272,     0.72372,     0.72472,     0.72573,     0.72673,     0.72773,     0.72873,     0.72973,     0.73073,     0.73173,     0.73273,     0.73373,     0.73473,     0.73574,     0.73674,     0.73774,     0.73874,     0.73974,     0.74074,     0.74174,     0.74274,     0.74374,\n",
       "           0.74474,     0.74575,     0.74675,     0.74775,     0.74875,     0.74975,     0.75075,     0.75175,     0.75275,     0.75375,     0.75475,     0.75576,     0.75676,     0.75776,     0.75876,     0.75976,     0.76076,     0.76176,     0.76276,     0.76376,     0.76476,     0.76577,     0.76677,     0.76777,\n",
       "           0.76877,     0.76977,     0.77077,     0.77177,     0.77277,     0.77377,     0.77477,     0.77578,     0.77678,     0.77778,     0.77878,     0.77978,     0.78078,     0.78178,     0.78278,     0.78378,     0.78478,     0.78579,     0.78679,     0.78779,     0.78879,     0.78979,     0.79079,     0.79179,\n",
       "           0.79279,     0.79379,     0.79479,      0.7958,      0.7968,      0.7978,      0.7988,      0.7998,      0.8008,      0.8018,      0.8028,      0.8038,      0.8048,     0.80581,     0.80681,     0.80781,     0.80881,     0.80981,     0.81081,     0.81181,     0.81281,     0.81381,     0.81481,     0.81582,\n",
       "           0.81682,     0.81782,     0.81882,     0.81982,     0.82082,     0.82182,     0.82282,     0.82382,     0.82482,     0.82583,     0.82683,     0.82783,     0.82883,     0.82983,     0.83083,     0.83183,     0.83283,     0.83383,     0.83483,     0.83584,     0.83684,     0.83784,     0.83884,     0.83984,\n",
       "           0.84084,     0.84184,     0.84284,     0.84384,     0.84484,     0.84585,     0.84685,     0.84785,     0.84885,     0.84985,     0.85085,     0.85185,     0.85285,     0.85385,     0.85485,     0.85586,     0.85686,     0.85786,     0.85886,     0.85986,     0.86086,     0.86186,     0.86286,     0.86386,\n",
       "           0.86486,     0.86587,     0.86687,     0.86787,     0.86887,     0.86987,     0.87087,     0.87187,     0.87287,     0.87387,     0.87487,     0.87588,     0.87688,     0.87788,     0.87888,     0.87988,     0.88088,     0.88188,     0.88288,     0.88388,     0.88488,     0.88589,     0.88689,     0.88789,\n",
       "           0.88889,     0.88989,     0.89089,     0.89189,     0.89289,     0.89389,     0.89489,      0.8959,      0.8969,      0.8979,      0.8989,      0.8999,      0.9009,      0.9019,      0.9029,      0.9039,      0.9049,     0.90591,     0.90691,     0.90791,     0.90891,     0.90991,     0.91091,     0.91191,\n",
       "           0.91291,     0.91391,     0.91491,     0.91592,     0.91692,     0.91792,     0.91892,     0.91992,     0.92092,     0.92192,     0.92292,     0.92392,     0.92492,     0.92593,     0.92693,     0.92793,     0.92893,     0.92993,     0.93093,     0.93193,     0.93293,     0.93393,     0.93493,     0.93594,\n",
       "           0.93694,     0.93794,     0.93894,     0.93994,     0.94094,     0.94194,     0.94294,     0.94394,     0.94494,     0.94595,     0.94695,     0.94795,     0.94895,     0.94995,     0.95095,     0.95195,     0.95295,     0.95395,     0.95495,     0.95596,     0.95696,     0.95796,     0.95896,     0.95996,\n",
       "           0.96096,     0.96196,     0.96296,     0.96396,     0.96496,     0.96597,     0.96697,     0.96797,     0.96897,     0.96997,     0.97097,     0.97197,     0.97297,     0.97397,     0.97497,     0.97598,     0.97698,     0.97798,     0.97898,     0.97998,     0.98098,     0.98198,     0.98298,     0.98398,\n",
       "           0.98498,     0.98599,     0.98699,     0.98799,     0.98899,     0.98999,     0.99099,     0.99199,     0.99299,     0.99399,     0.99499,       0.996,       0.997,       0.998,       0.999,           1]), array([[    0.79428,     0.79428,      0.7879,     0.78396,     0.78049,     0.77805,     0.77636,     0.77364,     0.77148,     0.76886,     0.76717,     0.76538,     0.76463,     0.76257,     0.76107,     0.75938,     0.75788,       0.756,      0.7545,      0.7531,     0.75169,     0.75056,     0.74934,\n",
       "            0.74822,     0.74709,     0.74606,     0.74475,     0.74381,     0.74231,     0.74118,     0.74015,     0.73912,     0.73856,     0.73743,     0.73649,     0.73602,     0.73537,     0.73452,     0.73377,     0.73265,     0.73189,     0.73143,     0.73068,     0.72936,      0.7288,     0.72795,\n",
       "            0.72767,     0.72711,     0.72636,     0.72598,     0.72467,     0.72402,     0.72336,     0.72261,     0.72167,     0.72111,     0.72008,     0.71942,     0.71895,      0.7182,     0.71782,     0.71735,     0.71695,     0.71632,     0.71529,     0.71454,      0.7136,     0.71238,     0.71201,\n",
       "            0.71116,     0.71032,     0.70947,     0.70835,     0.70713,     0.70675,     0.70582,     0.70478,     0.70338,     0.70253,     0.70079,     0.70028,     0.69953,     0.69719,      0.6955,     0.69475,      0.6939,     0.69231,      0.6909,     0.68987,     0.68903,     0.68724,     0.68646,\n",
       "            0.68537,     0.68358,     0.68236,     0.68133,     0.67946,     0.67824,      0.6772,      0.6757,     0.67383,     0.67242,     0.67167,     0.67073,     0.66914,     0.66792,     0.66717,     0.66604,      0.6652,     0.66398,     0.66285,     0.66126,     0.66023,     0.65938,     0.65826,\n",
       "            0.65732,     0.65582,      0.6546,     0.65366,     0.65235,     0.65141,     0.65028,     0.64882,       0.647,      0.6455,     0.64492,     0.64381,     0.64268,     0.64128,     0.64015,     0.63931,     0.63865,     0.63705,     0.63518,     0.63358,     0.63274,     0.63133,      0.6303,\n",
       "            0.62927,     0.62852,     0.62786,     0.62739,     0.62608,     0.62523,     0.62402,     0.62317,     0.62261,     0.62129,     0.62026,     0.61972,     0.61886,     0.61782,     0.61707,     0.61595,     0.61501,     0.61492,     0.61341,     0.61285,     0.61179,     0.61126,     0.61084,\n",
       "            0.60988,     0.60919,     0.60835,     0.60704,     0.60619,     0.60544,     0.60403,     0.60272,     0.60159,     0.60056,     0.59925,     0.59887,      0.5981,     0.59765,     0.59625,      0.5954,     0.59456,      0.5939,     0.59289,     0.59174,     0.59024,      0.5894,     0.58856,\n",
       "            0.58752,     0.58677,     0.58583,     0.58537,     0.58462,     0.58377,     0.58293,     0.58208,     0.58114,     0.58021,     0.57927,     0.57814,     0.57728,     0.57598,     0.57477,     0.57364,     0.57261,     0.57214,     0.57064,     0.56971,     0.56857,     0.56793,     0.56689,\n",
       "            0.56548,     0.56492,     0.56407,     0.56306,      0.5622,     0.56167,      0.5606,     0.55985,     0.55919,     0.55802,     0.55713,     0.55638,     0.55591,     0.55546,      0.5545,     0.55366,     0.55281,     0.55206,     0.55159,     0.55084,     0.55066,     0.54962,     0.54906,\n",
       "            0.54814,     0.54751,     0.54664,     0.54597,     0.54531,     0.54457,     0.54409,     0.54334,     0.54259,     0.54164,     0.54115,     0.53996,     0.53902,     0.53846,      0.5378,     0.53715,     0.53649,     0.53518,     0.53415,     0.53308,     0.53199,     0.53143,     0.53002,\n",
       "            0.52964,     0.52927,     0.52824,     0.52777,     0.52701,     0.52587,     0.52523,      0.5245,      0.5237,     0.52298,     0.52223,     0.52157,      0.5212,     0.52073,     0.52008,     0.51862,      0.5185,     0.51774,     0.51642,     0.51569,     0.51489,     0.51397,     0.51266,\n",
       "            0.51229,     0.51191,     0.51116,     0.51064,     0.51013,     0.50938,     0.50874,     0.50816,     0.50771,     0.50713,     0.50646,     0.50565,      0.5046,     0.50403,     0.50268,     0.50188,     0.50113,     0.50038,     0.49979,     0.49887,     0.49797,     0.49737,     0.49672,\n",
       "            0.49606,     0.49445,     0.49315,     0.49212,     0.49145,     0.49022,     0.48857,     0.48766,     0.48677,     0.48608,     0.48574,     0.48508,     0.48462,     0.48424,     0.48345,     0.48257,     0.48143,     0.48086,     0.47995,       0.479,       0.478,     0.47767,     0.47664,\n",
       "            0.47617,     0.47495,     0.47392,     0.47317,     0.47186,     0.47096,      0.4705,     0.46961,     0.46864,     0.46773,     0.46707,     0.46679,     0.46635,     0.46539,     0.46426,     0.46426,     0.46397,     0.46291,     0.46216,     0.46163,     0.46107,     0.46005,     0.45901,\n",
       "            0.45784,     0.45675,     0.45606,     0.45497,     0.45466,     0.45429,     0.45356,     0.45247,     0.45192,     0.45113,     0.44981,     0.44906,     0.44791,     0.44727,     0.44578,     0.44456,     0.44413,     0.44352,     0.44303,     0.44203,     0.44137,     0.44062,     0.43968,\n",
       "            0.43883,     0.43762,     0.43677,     0.43602,     0.43527,     0.43498,     0.43377,     0.43313,     0.43171,     0.43055,     0.42989,     0.42895,     0.42837,     0.42732,     0.42643,     0.42546,     0.42459,     0.42364,     0.42271,     0.42207,     0.42073,     0.42019,     0.41862,\n",
       "            0.41792,     0.41735,     0.41669,     0.41486,     0.41417,     0.41351,     0.41241,     0.41154,     0.41116,     0.41016,     0.40887,     0.40826,      0.4075,     0.40657,       0.406,     0.40497,      0.4045,     0.40366,      0.4022,     0.40103,     0.40041,     0.39924,     0.39822,\n",
       "            0.39716,     0.39599,      0.3953,     0.39477,     0.39366,      0.3926,     0.39188,     0.39113,      0.3905,     0.38996,     0.38938,     0.38856,     0.38754,     0.38649,     0.38555,      0.3848,     0.38393,     0.38299,     0.38236,      0.3816,     0.38055,     0.37927,     0.37848,\n",
       "            0.37731,     0.37627,     0.37551,     0.37421,     0.37336,      0.3724,     0.37107,     0.37026,      0.3697,     0.36896,     0.36755,     0.36632,     0.36529,     0.36465,     0.36379,     0.36246,     0.36178,     0.36098,     0.35975,     0.35923,     0.35847,     0.35788,     0.35731,\n",
       "            0.35629,     0.35516,     0.35403,     0.35253,     0.35194,     0.35124,     0.34987,     0.34916,     0.34841,     0.34767,     0.34672,     0.34554,     0.34447,     0.34313,     0.34193,     0.34113,     0.33978,     0.33837,     0.33715,      0.3363,     0.33576,     0.33459,     0.33379,\n",
       "            0.33293,     0.33152,     0.33076,     0.33005,     0.32875,     0.32783,     0.32684,      0.3254,     0.32451,     0.32373,     0.32277,     0.32148,     0.32004,     0.31916,      0.3182,     0.31743,     0.31628,     0.31493,     0.31387,     0.31247,     0.31166,     0.31079,     0.30975,\n",
       "            0.30854,     0.30741,     0.30689,      0.3061,     0.30545,     0.30439,     0.30362,      0.3017,     0.30068,     0.29932,     0.29822,     0.29765,     0.29694,     0.29598,     0.29478,     0.29362,     0.29287,     0.29165,     0.29062,     0.29034,     0.28955,      0.2886,     0.28769,\n",
       "             0.2867,      0.2857,     0.28492,     0.28425,     0.28323,      0.2818,     0.28086,     0.28001,     0.27881,     0.27808,     0.27758,     0.27613,     0.27498,     0.27414,     0.27371,      0.2727,     0.27226,     0.27149,     0.27074,     0.26954,     0.26883,     0.26804,      0.2676,\n",
       "            0.26665,     0.26591,     0.26477,      0.2637,     0.26306,      0.2621,     0.26085,     0.25979,     0.25897,     0.25838,     0.25722,     0.25638,     0.25547,     0.25438,     0.25374,     0.25272,     0.25195,     0.25167,     0.25039,     0.24943,     0.24885,     0.24748,     0.24668,\n",
       "            0.24613,     0.24485,     0.24375,     0.24278,     0.24221,     0.24132,     0.24008,     0.23896,     0.23769,     0.23691,     0.23581,     0.23497,     0.23438,     0.23343,     0.23217,      0.2311,     0.22982,     0.22902,     0.22783,     0.22694,     0.22574,     0.22486,     0.22415,\n",
       "            0.22319,     0.22232,     0.22126,     0.22053,     0.21967,     0.21852,     0.21758,     0.21678,     0.21608,     0.21548,     0.21473,     0.21375,     0.21261,     0.21195,     0.21122,     0.21034,     0.20983,     0.20876,     0.20833,     0.20754,      0.2062,     0.20568,     0.20471,\n",
       "            0.20389,     0.20319,     0.20248,     0.20216,     0.20097,     0.19989,     0.19887,     0.19774,     0.19686,     0.19614,     0.19519,     0.19423,     0.19353,     0.19274,     0.19194,     0.19102,     0.19024,     0.18918,     0.18833,     0.18686,     0.18654,     0.18504,     0.18435,\n",
       "            0.18345,     0.18268,     0.18146,      0.1805,     0.17993,     0.17923,     0.17847,     0.17752,     0.17659,     0.17543,     0.17457,      0.1736,     0.17312,     0.17205,     0.17099,      0.1694,     0.16835,      0.1675,     0.16648,     0.16588,     0.16538,     0.16463,     0.16379,\n",
       "            0.16296,      0.1622,     0.16126,      0.1599,     0.15903,     0.15788,     0.15703,     0.15638,     0.15574,     0.15497,     0.15431,     0.15352,       0.153,     0.15197,     0.15089,     0.15022,     0.14951,     0.14814,     0.14727,     0.14604,     0.14542,     0.14456,     0.14387,\n",
       "            0.14293,     0.14224,     0.14135,     0.14095,     0.13998,     0.13872,     0.13753,     0.13645,     0.13589,     0.13484,     0.13367,     0.13245,     0.13094,     0.13026,     0.12961,     0.12882,      0.1283,     0.12786,     0.12715,     0.12629,     0.12551,     0.12458,      0.1239,\n",
       "            0.12322,     0.12257,     0.12175,     0.12097,     0.12017,     0.11938,     0.11869,     0.11731,     0.11632,     0.11515,     0.11471,     0.11415,     0.11381,     0.11316,     0.11239,      0.1113,     0.11049,     0.10996,     0.10948,     0.10884,     0.10821,     0.10757,     0.10653,\n",
       "            0.10571,     0.10513,     0.10432,     0.10378,     0.10306,     0.10197,     0.10096,    0.099621,    0.099431,    0.098876,    0.098046,    0.097079,     0.09629,    0.095285,    0.093985,    0.093235,    0.092583,    0.091946,    0.090948,    0.090094,    0.089118,    0.088622,    0.087469,\n",
       "           0.086782,    0.085863,    0.085488,    0.084612,    0.083569,    0.083103,    0.082572,    0.081427,    0.080488,    0.078973,     0.07833,    0.077801,    0.076936,    0.076416,    0.075721,    0.074668,    0.073865,    0.072547,    0.071951,    0.070748,    0.070015,    0.068905,    0.068265,\n",
       "           0.067792,    0.066969,    0.066291,    0.065409,    0.064516,    0.063784,    0.063131,    0.062352,    0.061548,    0.060965,    0.060232,    0.059505,    0.058465,    0.057621,    0.057064,    0.056825,    0.055708,    0.054794,     0.05416,    0.053641,    0.053001,    0.052848,    0.052117,\n",
       "           0.051215,    0.050817,    0.050375,     0.04992,    0.049444,    0.048391,    0.047877,    0.047575,     0.04679,    0.046183,    0.045665,     0.04483,    0.044104,    0.043276,    0.042606,    0.042132,    0.041147,    0.040212,    0.039385,    0.038741,    0.038189,    0.037686,    0.037173,\n",
       "           0.036783,    0.036018,    0.035591,    0.035183,    0.034881,    0.034411,    0.034243,     0.03357,    0.033208,    0.032723,    0.032366,    0.031799,    0.031487,     0.03103,     0.03037,    0.029736,    0.029243,    0.028915,    0.028726,    0.028211,    0.027698,    0.027506,    0.027007,\n",
       "           0.026849,    0.026592,    0.026288,     0.02544,    0.024937,    0.024653,     0.02444,    0.024104,    0.024033,    0.023867,    0.023657,    0.023257,    0.022967,    0.022421,    0.022178,    0.021954,    0.021385,    0.020988,    0.020493,    0.020203,    0.019929,    0.019575,    0.019291,\n",
       "           0.019196,    0.019127,     0.01867,    0.018435,     0.01819,    0.018139,    0.018033,    0.017933,     0.01785,    0.017695,    0.017641,    0.017583,    0.017504,    0.017416,     0.01736,    0.017284,     0.01722,    0.017158,    0.017074,    0.016911,    0.016864,     0.01683,    0.016797,\n",
       "           0.016547,    0.016318,    0.016281,    0.016244,    0.016135,    0.016067,    0.015901,    0.015613,    0.015375,    0.015313,    0.015107,    0.014865,    0.014608,    0.014157,    0.013615,    0.013127,    0.012324,    0.011475,    0.010898,    0.010186,   0.0096855,   0.0087476,   0.0079469,\n",
       "          0.0068317,   0.0060499,   0.0054307,   0.0052665,   0.0044604,    0.003977,   0.0035175,   0.0028453,   0.0025389,   0.0018952,   0.0015262,    0.001424,   0.0012446,   0.0010037,  0.00083025,   0.0007008,  0.00056078,  0.00049092,  0.00041911,  0.00025399,  0.00013676,           0,           0,\n",
       "                  0,           0,           0,           0,           0,           0,           0,           0,           0,           0,           0,           0,           0,           0,           0,           0,           0,           0,           0,           0,           0,           0,           0,\n",
       "                  0,           0,           0,           0,           0,           0,           0,           0,           0,           0,           0,           0,           0,           0,           0,           0,           0,           0,           0,           0,           0,           0,           0,\n",
       "                  0,           0,           0,           0,           0,           0,           0,           0,           0,           0,           0]]), 'Confidence', 'Recall']]\n",
       "fitness: 0.36501192053081855\n",
       "keys: ['metrics/precision(B)', 'metrics/recall(B)', 'metrics/mAP50(B)', 'metrics/mAP50-95(B)']\n",
       "maps: array([    0.33795])\n",
       "names: {0: 'person'}\n",
       "plot: True\n",
       "results_dict: {'metrics/precision(B)': 0.7174012626308739, 'metrics/recall(B)': 0.5390243902439025, 'metrics/mAP50(B)': 0.6085482231450049, 'metrics/mAP50-95(B)': 0.33795233135146446, 'fitness': 0.36501192053081855}\n",
       "save_dir: WindowsPath('runs/detect/train4')\n",
       "speed: {'preprocess': 0.9257465205269206, 'inference': 51.76480411233642, 'loss': 0.0, 'postprocess': 0.6055781926249058}\n",
       "task: 'detect'"
      ]
     },
     "execution_count": 8,
     "metadata": {},
     "output_type": "execute_result"
    }
   ],
   "source": [
    "results"
   ]
  }
 ],
 "metadata": {
  "kernelspec": {
   "display_name": "Python 3",
   "language": "python",
   "name": "python3"
  },
  "language_info": {
   "codemirror_mode": {
    "name": "ipython",
    "version": 3
   },
   "file_extension": ".py",
   "mimetype": "text/x-python",
   "name": "python",
   "nbconvert_exporter": "python",
   "pygments_lexer": "ipython3",
   "version": "3.12.3"
  }
 },
 "nbformat": 4,
 "nbformat_minor": 2
}
